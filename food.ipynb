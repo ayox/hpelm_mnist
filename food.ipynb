{
 "cells": [
  {
   "cell_type": "code",
   "execution_count": 1,
   "metadata": {
    "collapsed": true
   },
   "outputs": [],
   "source": [
    "from hpelm import ELM\n",
    "import numpy as np\n",
    "import time\n",
    "from sklearn.utils import shuffle"
   ]
  },
  {
   "cell_type": "code",
   "execution_count": 2,
   "metadata": {
    "collapsed": true
   },
   "outputs": [],
   "source": [
    "# from PIL import Image\n",
    "# from numpy import array\n",
    "# from scipy.misc import imresize"
   ]
  },
  {
   "cell_type": "code",
   "execution_count": 3,
   "metadata": {
    "collapsed": true
   },
   "outputs": [],
   "source": [
    "# from os import listdir\n",
    "# from os.path import isfile, join\n",
    "# from cutImages import cut_image\n",
    "\n",
    "\n",
    "# def read_images(path):\n",
    "#     fullList = []\n",
    "#     for c in range(1, 100):\n",
    "#         mypath = path + str(c) + \"/\"\n",
    "#         onlyfiles = [f for f in listdir(mypath) if isfile(join(mypath, f))]\n",
    "#         print (len(onlyfiles), c)\n",
    "#         for x in onlyfiles:\n",
    "#             if x == 'bb_info.txt':\n",
    "#                 continue\n",
    "#             img = cut_image(mypath + x)\n",
    "#             arr = array(img)\n",
    "#             arr = imresize(arr, [32, 32, 3])\n",
    "#             r = arr[:, :, 0].flatten()\n",
    "#             g = arr[:, :, 1].flatten()\n",
    "#             b = arr[:, :, 2].flatten()\n",
    "#             label = [c]\n",
    "#             out = np.array(list(label) + list(r) + list(g) + list(b), np.int)\n",
    "#             fullList.append(out)\n",
    "#     shuffle(fullList)\n",
    "#     imagesList = np.array(fullList, dtype=int)\n",
    "#     print (\"images shape: {}\".format(imagesList.shape))\n",
    "#     return imagesList"
   ]
  },
  {
   "cell_type": "code",
   "execution_count": 2,
   "metadata": {
    "collapsed": true
   },
   "outputs": [],
   "source": [
    "# imagesList = np.load('UECFOOD_100_1000Features_train.npy')\n",
    "trainingdata = np.loadtxt('/media/aymen/DATA/datasets/food10/2048trainingdata-cnn.svm')"
   ]
  },
  {
   "cell_type": "code",
   "execution_count": 3,
   "metadata": {},
   "outputs": [
    {
     "data": {
      "text/plain": [
       "(9000, 2049)"
      ]
     },
     "execution_count": 3,
     "metadata": {},
     "output_type": "execute_result"
    }
   ],
   "source": [
    "trainingdata.shape"
   ]
  },
  {
   "cell_type": "code",
   "execution_count": 2,
   "metadata": {
    "collapsed": true
   },
   "outputs": [],
   "source": [
    "from cPickle import load\n",
    "all_features_file = '/media/aymen/DATA/datasets/ghalib-features/data_features_orb_UECFOOD100.pickle'\n",
    "all_features = load(open(all_features_file, 'rb'))"
   ]
  },
  {
   "cell_type": "code",
   "execution_count": 6,
   "metadata": {},
   "outputs": [
    {
     "ename": "NameError",
     "evalue": "name 'all_features' is not defined",
     "output_type": "error",
     "traceback": [
      "\u001b[0;31m---------------------------------------------------------------------------\u001b[0m",
      "\u001b[0;31mNameError\u001b[0m                                 Traceback (most recent call last)",
      "\u001b[0;32m<ipython-input-6-2482e1616f4e>\u001b[0m in \u001b[0;36m<module>\u001b[0;34m()\u001b[0m\n\u001b[0;32m----> 1\u001b[0;31m \u001b[0mimg_class\u001b[0m \u001b[0;34m=\u001b[0m \u001b[0mall_features\u001b[0m\u001b[0;34m[\u001b[0m\u001b[0;36m0\u001b[0m\u001b[0;34m]\u001b[0m\u001b[0;34m[\u001b[0m\u001b[0;36m0\u001b[0m\u001b[0;34m]\u001b[0m\u001b[0;34m.\u001b[0m\u001b[0msplit\u001b[0m\u001b[0;34m(\u001b[0m\u001b[0;34m'/'\u001b[0m\u001b[0;34m)\u001b[0m\u001b[0;34m[\u001b[0m\u001b[0;34m-\u001b[0m\u001b[0;36m2\u001b[0m\u001b[0;34m]\u001b[0m\u001b[0;34m\u001b[0m\u001b[0m\n\u001b[0m\u001b[1;32m      2\u001b[0m \u001b[0;32mprint\u001b[0m\u001b[0;34m(\u001b[0m\u001b[0mimg_class\u001b[0m\u001b[0;34m)\u001b[0m\u001b[0;34m\u001b[0m\u001b[0m\n",
      "\u001b[0;31mNameError\u001b[0m: name 'all_features' is not defined"
     ]
    }
   ],
   "source": [
    "img_class = all_features[0][0].split('/')[-2]\n",
    "print(img_class)"
   ]
  },
  {
   "cell_type": "code",
   "execution_count": 32,
   "metadata": {},
   "outputs": [
    {
     "name": "stdout",
     "output_type": "stream",
     "text": [
      "(500, 32)\n"
     ]
    }
   ],
   "source": [
    "fet = all_features[0][1]\n",
    "print fet.shape"
   ]
  },
  {
   "cell_type": "code",
   "execution_count": 4,
   "metadata": {},
   "outputs": [
    {
     "ename": "NameError",
     "evalue": "name 'all_features' is not defined",
     "output_type": "error",
     "traceback": [
      "\u001b[0;31m---------------------------------------------------------------------------\u001b[0m",
      "\u001b[0;31mNameError\u001b[0m                                 Traceback (most recent call last)",
      "\u001b[0;32m<ipython-input-4-bf89168a2dd8>\u001b[0m in \u001b[0;36m<module>\u001b[0;34m()\u001b[0m\n\u001b[1;32m      1\u001b[0m \u001b[0mcount\u001b[0m \u001b[0;34m=\u001b[0m \u001b[0;36m0\u001b[0m\u001b[0;34m\u001b[0m\u001b[0m\n\u001b[0;32m----> 2\u001b[0;31m \u001b[0;32mfor\u001b[0m \u001b[0mi\u001b[0m\u001b[0;34m,\u001b[0m \u001b[0mval\u001b[0m \u001b[0;32min\u001b[0m \u001b[0mall_features\u001b[0m\u001b[0;34m:\u001b[0m\u001b[0;34m\u001b[0m\u001b[0m\n\u001b[0m\u001b[1;32m      3\u001b[0m     \u001b[0;32mif\u001b[0m \u001b[0mcount\u001b[0m \u001b[0;34m<\u001b[0m \u001b[0;36m3\u001b[0m \u001b[0;34m:\u001b[0m\u001b[0;34m\u001b[0m\u001b[0m\n\u001b[1;32m      4\u001b[0m         \u001b[0mimg_class\u001b[0m \u001b[0;34m=\u001b[0m \u001b[0mi\u001b[0m\u001b[0;34m.\u001b[0m\u001b[0msplit\u001b[0m\u001b[0;34m(\u001b[0m\u001b[0;34m'/'\u001b[0m\u001b[0;34m)\u001b[0m\u001b[0;34m[\u001b[0m\u001b[0;34m-\u001b[0m\u001b[0;36m2\u001b[0m\u001b[0;34m]\u001b[0m\u001b[0;34m\u001b[0m\u001b[0m\n\u001b[1;32m      5\u001b[0m         \u001b[0;32mprint\u001b[0m \u001b[0mimg_class\u001b[0m\u001b[0;34m,\u001b[0m \u001b[0mval\u001b[0m\u001b[0;34m\u001b[0m\u001b[0m\n",
      "\u001b[0;31mNameError\u001b[0m: name 'all_features' is not defined"
     ]
    }
   ],
   "source": [
    "count = 0 \n",
    "for i, val in all_features:\n",
    "    if count < 3 :\n",
    "        img_class = i.split('/')[-2]\n",
    "        print img_class, val\n",
    "        count +=1\n",
    "    else:\n",
    "        break\n",
    "        "
   ]
  },
  {
   "cell_type": "code",
   "execution_count": 103,
   "metadata": {},
   "outputs": [
    {
     "name": "stdout",
     "output_type": "stream",
     "text": [
      "('imaglist full', (9000, 2049))\n",
      "('trainImagesList', (900, 2049))\n",
      "('testImagesList', (8100, 2049))\n",
      "9000\n",
      "[ 5.        0.065093  0.014931 ...,  0.007085  0.236203  0.048631]\n",
      "[ 0.  1.  2.  3.  4.  5.  6.  7.  8.  9.]\n"
     ]
    }
   ],
   "source": [
    "imagesList = shuffle(trainingdata)\n",
    "precentage = 0.1\n",
    "print ('imaglist full', imagesList.shape)\n",
    "trainImagesList = imagesList[0:int(imagesList.__len__() * precentage), :]\n",
    "testImagesList = imagesList[int(imagesList.__len__() * precentage):, :]\n",
    "print ('trainImagesList', trainImagesList.shape)\n",
    "print ('testImagesList', testImagesList.shape)\n",
    "print (trainImagesList.shape[0] + testImagesList.shape[0])\n",
    "print(imagesList[324])\n",
    "print(np.unique(imagesList[:,0]))"
   ]
  },
  {
   "cell_type": "code",
   "execution_count": 104,
   "metadata": {
    "collapsed": true
   },
   "outputs": [],
   "source": [
    "# images_norm = imagesList[:,1:]\n",
    "# labels = imagesList[:,0]\n",
    "# from sklearn.preprocessing import normalize\n",
    "# images_norm = normalize(images_norm)\n",
    "\n",
    "# print (images_norm.shape)\n",
    "# print('labels',labels.shape)\n",
    "# print(images_norm[324])\n",
    "# print(np.unique(images_norm))\n",
    "# trainImagesList = images_norm[0:int(images_norm.__len__() * .8), :]\n",
    "# testImagesList = images_norm[int(images_norm.__len__() * .8):, :]\n",
    "\n",
    "# trainImagesList_labels = labels[0:int(labels.__len__() * .8)]\n",
    "# testImagesList_labels = labels[int(labels.__len__() * .8):]\n",
    "\n",
    "# print ('trainImagesList', trainImagesList.shape)\n",
    "# print ('testImagesList', testImagesList.shape)\n",
    "# print ('trainImagesList_labels', trainImagesList_labels.shape)\n",
    "# print ('testImagesList_labels', testImagesList_labels.shape)\n",
    "# # images = norm2\n"
   ]
  },
  {
   "cell_type": "code",
   "execution_count": 105,
   "metadata": {},
   "outputs": [
    {
     "name": "stdout",
     "output_type": "stream",
     "text": [
      "batch_size : 900\n",
      "hidden_num : 5000\n"
     ]
    }
   ],
   "source": [
    "epoch = 1\n",
    "batch_size = trainImagesList.__len__() / epoch\n",
    "hidden_num = 5000\n",
    "_inputs = 2048\n",
    "_outputs = 10\n",
    "elm = ELM(_inputs, _outputs, batch=batch_size)\n",
    "elm.add_neurons(hidden_num, \"tanh\")\n",
    "print(\"batch_size : {}\".format(batch_size))\n",
    "print(\"hidden_num : {}\".format(hidden_num))"
   ]
  },
  {
   "cell_type": "code",
   "execution_count": 106,
   "metadata": {},
   "outputs": [
    {
     "name": "stdout",
     "output_type": "stream",
     "text": [
      "batch : 1\n",
      "('X', (900, 2048))\n",
      "('Y', (900,))\n",
      "Covariance matrix is not full rank; solving with SVD (slow)\n",
      "This happened because you have duplicated or too many neurons\n",
      "86.8410181999 seconds\n"
     ]
    }
   ],
   "source": [
    "k=1\n",
    "old_batch_size_k = 0\n",
    "data = trainImagesList\n",
    "start_time = time.time()\n",
    "while k <= epoch:\n",
    "    # shuffle(trainImagesList)\n",
    "    print(\"batch : {}\".format(k))\n",
    "    # print (data.shape, data.dtype)\n",
    "    # dynamic\n",
    "#     train_x = np.array(data[old_batch_size_k:(batch_size * k), 1:], dtype=\"float\")\n",
    "#     train_y = np.array(data[old_batch_size_k:(batch_size * k), 0], dtype=\"int\")\n",
    "#     if k == epoch:\n",
    "#         train_x = np.array(data[old_batch_size_k:, 1:], dtype=\"float\")\n",
    "#         train_y = np.array(data[old_batch_size_k:, 0], dtype=\"int\")\n",
    "#     old_batch_size_k = batch_size * k\n",
    "\n",
    "    # whole\n",
    "    train_x = np.array(data[:, 1:], dtype=\"float\")\n",
    "    train_y = np.array(data[:, 0], dtype=\"int\")\n",
    "    #separate labels and images \n",
    "#     train_x = np.array(trainImagesList, dtype=\"float\")\n",
    "#     train_y = np.array(trainImagesList_labels, dtype=\"int\")\n",
    "    \n",
    "    print (\"X\", train_x.shape)\n",
    "    print (\"Y\", train_y.shape)\n",
    "    # end whole\n",
    "    train_y = np.eye(np.max(train_y) + 1)[train_y]\n",
    "    elm.train(train_x, train_y)\n",
    "    k += 1\n",
    "\n",
    "end_time = time.time()\n",
    "print(\"%s seconds\" % (end_time - start_time))"
   ]
  },
  {
   "cell_type": "code",
   "execution_count": 107,
   "metadata": {
    "collapsed": true
   },
   "outputs": [],
   "source": [
    "def predict(_testImagesList):\n",
    "    # testImagesList = np.load(testPath)\n",
    "    testList = _testImagesList\n",
    "\n",
    "    # print ('testImagesList', testList, testList.shape)\n",
    "    test_x = np.array(testList[:, 1:], dtype=\"float\")\n",
    "    test_y = np.array(testList[:, 0], dtype=\"int\")\n",
    "    test_y = np.eye(np.max(test_y) + 1)[test_y]\n",
    "    #\n",
    "    Y = elm.predict(test_x)\n",
    "    predict = []\n",
    "    for y in Y:\n",
    "        predict.append(y.argmax())\n",
    "\n",
    "    gt = []\n",
    "    for y in test_y:\n",
    "        gt.append(y.argmax())\n",
    "\n",
    "    save = []\n",
    "    for _ in np.arange(0, len(gt)):\n",
    "        k = True if gt[_] == predict[_] else False\n",
    "        save.append(k)\n",
    "\n",
    "    return save"
   ]
  },
  {
   "cell_type": "code",
   "execution_count": 108,
   "metadata": {
    "collapsed": true
   },
   "outputs": [],
   "source": [
    "# def predict_labels(_testImagesList,_labels):\n",
    "#     # testImagesList = np.load(testPath)\n",
    "#     testList = _testImagesList\n",
    "#     labels = _labels\n",
    "\n",
    "#     # print ('testImagesList', testList, testList.shape)\n",
    "#     test_x = np.array(testList, dtype=\"float\")\n",
    "#     test_y = np.array(labels, dtype=\"int\")\n",
    "#     test_y = np.eye(np.max(test_y) + 1)[test_y]\n",
    "#     #\n",
    "#     Y = elm.predict(test_x)\n",
    "#     predict = []\n",
    "#     for y in Y:\n",
    "#         predict.append(y.argmax())\n",
    "\n",
    "#     gt = []\n",
    "#     for y in test_y:\n",
    "#         gt.append(y.argmax())\n",
    "\n",
    "#     save = []\n",
    "#     for _ in np.arange(0, len(gt)):\n",
    "#         k = True if gt[_] == predict[_] else False\n",
    "#         save.append(k)\n",
    "\n",
    "#     return save"
   ]
  },
  {
   "cell_type": "code",
   "execution_count": 109,
   "metadata": {},
   "outputs": [
    {
     "name": "stdout",
     "output_type": "stream",
     "text": [
      "test accuracy: 0.833827160494\n",
      "train accuracy: 1.0\n"
     ]
    }
   ],
   "source": [
    "test = predict(testImagesList)\n",
    "print(\"test accuracy: {0}\".format(np.mean(test)))\n",
    "train = predict(trainImagesList)\n",
    "print(\"train accuracy: {0}\".format(np.mean(train)))"
   ]
  },
  {
   "cell_type": "code",
   "execution_count": 46,
   "metadata": {
    "collapsed": true
   },
   "outputs": [],
   "source": [
    "# test = predict_labels(testImagesList,testImagesList_labels)\n",
    "# print(\"test accuracy: {0}\".format(np.mean(test)))\n",
    "# train = predict_labels(trainImagesList,trainImagesList_labels)\n",
    "# print(\"train accuracy: {0}\".format(np.mean(train)))"
   ]
  },
  {
   "cell_type": "code",
   "execution_count": null,
   "metadata": {
    "collapsed": true
   },
   "outputs": [],
   "source": [
    "test accuracy: 0.867333333333\n",
    "train accuracy: 0.992444444444"
   ]
  }
 ],
 "metadata": {
  "kernelspec": {
   "display_name": "Python 2",
   "language": "python",
   "name": "python2"
  },
  "language_info": {
   "codemirror_mode": {
    "name": "ipython",
    "version": 2
   },
   "file_extension": ".py",
   "mimetype": "text/x-python",
   "name": "python",
   "nbconvert_exporter": "python",
   "pygments_lexer": "ipython2",
   "version": "2.7.12"
  }
 },
 "nbformat": 4,
 "nbformat_minor": 2
}
