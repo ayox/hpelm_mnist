{
 "cells": [
  {
   "cell_type": "code",
   "execution_count": 1,
   "metadata": {
    "collapsed": true
   },
   "outputs": [],
   "source": [
    "from hpelm import ELM\n",
    "import numpy as np\n",
    "import time\n",
    "from sklearn.utils import shuffle\n",
    "from sklearn.metrics import confusion_matrix, accuracy_score, average_precision_score\n",
    "import itertools\n",
    "import numpy as np\n",
    "import matplotlib.pyplot as plt"
   ]
  },
  {
   "cell_type": "code",
   "execution_count": 2,
   "metadata": {
    "collapsed": true
   },
   "outputs": [],
   "source": [
    "# from PIL import Image\n",
    "# from numpy import array\n",
    "# from scipy.misc import imresize"
   ]
  },
  {
   "cell_type": "code",
   "execution_count": 3,
   "metadata": {
    "collapsed": true
   },
   "outputs": [],
   "source": [
    "# from os import listdir\n",
    "# from os.path import isfile, join\n",
    "# from cutImages import cut_image\n",
    "\n",
    "\n",
    "# def read_images(path):\n",
    "#     fullList = []\n",
    "#     for c in range(1, 100):\n",
    "#         mypath = path + str(c) + \"/\"\n",
    "#         onlyfiles = [f for f in listdir(mypath) if isfile(join(mypath, f))]\n",
    "#         print (len(onlyfiles), c)\n",
    "#         for x in onlyfiles:\n",
    "#             if x == 'bb_info.txt':\n",
    "#                 continue\n",
    "#             img = cut_image(mypath + x)\n",
    "#             arr = array(img)\n",
    "#             arr = imresize(arr, [32, 32, 3])\n",
    "#             r = arr[:, :, 0].flatten()\n",
    "#             g = arr[:, :, 1].flatten()\n",
    "#             b = arr[:, :, 2].flatten()\n",
    "#             label = [c]\n",
    "#             out = np.array(list(label) + list(r) + list(g) + list(b), np.int)\n",
    "#             fullList.append(out)\n",
    "#     shuffle(fullList)\n",
    "#     imagesList = np.array(fullList, dtype=int)\n",
    "#     print (\"images shape: {}\".format(imagesList.shape))\n",
    "#     return imagesList"
   ]
  },
  {
   "cell_type": "code",
   "execution_count": 2,
   "metadata": {
    "collapsed": true
   },
   "outputs": [],
   "source": [
    "# imagesList = np.load('UECFOOD_100_1000Features_train.npy')\n",
    "trainingData = np.loadtxt('/media/aymen/DATA/datasets/cropped_db/UECFOOD100-Cropped//1664features-cnn-aug-crop-27epoch-food101.svm')\n",
    "# trainingData = np.loadtxt(\n",
    "#     '/media/aymen/DATA/datasets/food101/train/1664features-cnn-aug-nc-100epoch-finetuned-food101.svm')\n",
    "# testingData = np.loadtxt(\n",
    "#     '/media/aymen/DATA/datasets/food101/test/1664features-cnn-aug-nc-100epoch-finetuned-food101.svm')"
   ]
  },
  {
   "cell_type": "code",
   "execution_count": 3,
   "metadata": {},
   "outputs": [
    {
     "data": {
      "text/plain": [
       "(14358, 1665)"
      ]
     },
     "execution_count": 3,
     "metadata": {},
     "output_type": "execute_result"
    }
   ],
   "source": [
    "# trainingData.shape, testingData.shape\n",
    "trainingData.shape"
   ]
  },
  {
   "cell_type": "markdown",
   "metadata": {
    "collapsed": true
   },
   "source": [
    "from cPickle import load\n",
    "all_features_file = '/media/aymen/DATA/datasets/ghalib-features/data_features_orb_UECFOOD100.pickle'\n",
    "all_features = load(open(all_features_file, 'rb'))"
   ]
  },
  {
   "cell_type": "markdown",
   "metadata": {},
   "source": [
    "img_class = all_features[0][0].split('/')[-2]\n",
    "print(img_class)"
   ]
  },
  {
   "cell_type": "markdown",
   "metadata": {},
   "source": [
    "fet = all_features[0][1]\n",
    "print fet.shape"
   ]
  },
  {
   "cell_type": "markdown",
   "metadata": {},
   "source": [
    "count = 0 \n",
    "for i, val in all_features:\n",
    "    if count < 3 :\n",
    "        img_class = i.split('/')[-2]\n",
    "        print img_class, val\n",
    "        count +=1\n",
    "    else:\n",
    "        break\n",
    "        "
   ]
  },
  {
   "cell_type": "code",
   "execution_count": 27,
   "metadata": {},
   "outputs": [
    {
     "name": "stdout",
     "output_type": "stream",
     "text": [
      "('imaglist full', (14358, 1665))\n",
      "('trainImagesList', (11055, 1665))\n",
      "('testImagesList', (3303, 1665))\n",
      "14358\n",
      "[  6.20000000e+01   3.47700000e-03   0.00000000e+00 ...,   1.27051600e+00\n",
      "   1.10214700e+00   3.34815800e+00]\n",
      "[  0.   1.   2.   3.   4.   5.   6.   7.   8.   9.  10.  11.  12.  13.  14.\n",
      "  15.  16.  17.  18.  19.  20.  21.  22.  23.  24.  25.  26.  27.  28.  29.\n",
      "  30.  31.  32.  33.  34.  35.  36.  37.  38.  39.  40.  41.  42.  43.  44.\n",
      "  45.  46.  47.  48.  49.  50.  51.  52.  53.  54.  55.  56.  57.  58.  59.\n",
      "  60.  61.  62.  63.  64.  65.  66.  67.  68.  69.  70.  71.  72.  73.  74.\n",
      "  75.  76.  77.  78.  79.  80.  81.  82.  83.  84.  85.  86.  87.  88.  89.\n",
      "  90.  91.  92.  93.  94.  95.  96.  97.  98.  99.]\n"
     ]
    }
   ],
   "source": [
    "imagesList = shuffle(trainingData)\n",
    "# index = np.argwhere(imagesList== 175.0)\n",
    "# imagesList = np.delete(imagesList, index,axis=0)\n",
    "precentage = 0.77\n",
    "print ('imaglist full', imagesList.shape)\n",
    "trainImagesList = imagesList[0:int(imagesList.__len__() * precentage), :]\n",
    "testImagesList = imagesList[int(imagesList.__len__() * precentage):, :]\n",
    "print ('trainImagesList', trainImagesList.shape)\n",
    "print ('testImagesList', testImagesList.shape)\n",
    "print (trainImagesList.shape[0] + testImagesList.shape[0])\n",
    "print(imagesList[3])\n",
    "print(np.unique(imagesList[:,0]))"
   ]
  },
  {
   "cell_type": "code",
   "execution_count": 5,
   "metadata": {},
   "outputs": [
    {
     "name": "stdout",
     "output_type": "stream",
     "text": [
      "[   0.    1.    2.    3.    4.    5.    6.    7.    8.    9.   10.   11.\n",
      "   12.   13.   14.   15.   16.   17.   18.   19.   20.   21.   22.   23.\n",
      "   24.   25.   26.   27.   28.   29.   30.   31.   32.   33.   34.   35.\n",
      "   36.   37.   38.   39.   40.   41.   42.   43.   44.   45.   46.   47.\n",
      "   48.   49.   50.   51.   52.   53.   54.   55.   56.   57.   58.   59.\n",
      "   60.   61.   62.   63.   64.   65.   66.   67.   68.   69.   70.   71.\n",
      "   72.   73.   74.   75.   76.   77.   78.   79.   80.   81.   82.   83.\n",
      "   84.   85.   86.   87.   88.   89.   90.   91.   92.   93.   94.   95.\n",
      "   96.   97.   98.   99.  100.]\n",
      "[   0.    1.    2.    3.    4.    5.    6.    7.    8.    9.   10.   11.\n",
      "   12.   13.   14.   15.   16.   17.   18.   19.   20.   21.   22.   23.\n",
      "   24.   25.   26.   27.   28.   29.   30.   31.   32.   33.   34.   35.\n",
      "   36.   37.   38.   39.   40.   41.   42.   43.   44.   45.   46.   47.\n",
      "   48.   49.   50.   51.   52.   53.   54.   55.   56.   57.   58.   59.\n",
      "   60.   61.   62.   63.   64.   65.   66.   67.   68.   69.   70.   71.\n",
      "   72.   73.   74.   75.   76.   77.   78.   79.   80.   81.   82.   83.\n",
      "   84.   85.   86.   87.   88.   89.   90.   91.   92.   93.   94.   95.\n",
      "   96.   97.   98.   99.  100.]\n"
     ]
    }
   ],
   "source": [
    "# trainImagesList = trainingData\n",
    "# testImagesList = testingData\n",
    "# print(np.unique(trainImagesList[:,0]))\n",
    "# print(np.unique(testImagesList[:,0]))"
   ]
  },
  {
   "cell_type": "code",
   "execution_count": 5,
   "metadata": {},
   "outputs": [
    {
     "data": {
      "text/plain": [
       "(Counter({0.0: 486,\n",
       "          1.0: 106,\n",
       "          2.0: 76,\n",
       "          3.0: 83,\n",
       "          4.0: 172,\n",
       "          5.0: 89,\n",
       "          6.0: 78,\n",
       "          7.0: 74,\n",
       "          8.0: 121,\n",
       "          9.0: 178,\n",
       "          10.0: 103,\n",
       "          11.0: 116,\n",
       "          12.0: 100,\n",
       "          13.0: 122,\n",
       "          14.0: 87,\n",
       "          15.0: 126,\n",
       "          16.0: 253,\n",
       "          17.0: 104,\n",
       "          18.0: 83,\n",
       "          19.0: 104,\n",
       "          20.0: 119,\n",
       "          21.0: 109,\n",
       "          22.0: 103,\n",
       "          23.0: 91,\n",
       "          24.0: 90,\n",
       "          25.0: 92,\n",
       "          26.0: 102,\n",
       "          27.0: 72,\n",
       "          28.0: 82,\n",
       "          29.0: 88,\n",
       "          30.0: 558,\n",
       "          31.0: 93,\n",
       "          32.0: 82,\n",
       "          33.0: 85,\n",
       "          34.0: 89,\n",
       "          35.0: 82,\n",
       "          36.0: 88,\n",
       "          37.0: 129,\n",
       "          38.0: 84,\n",
       "          39.0: 88,\n",
       "          40.0: 94,\n",
       "          41.0: 90,\n",
       "          42.0: 86,\n",
       "          43.0: 94,\n",
       "          44.0: 139,\n",
       "          45.0: 108,\n",
       "          46.0: 104,\n",
       "          47.0: 73,\n",
       "          48.0: 77,\n",
       "          49.0: 85,\n",
       "          50.0: 96,\n",
       "          51.0: 113,\n",
       "          52.0: 106,\n",
       "          53.0: 75,\n",
       "          54.0: 84,\n",
       "          55.0: 90,\n",
       "          56.0: 180,\n",
       "          57.0: 106,\n",
       "          58.0: 82,\n",
       "          59.0: 86,\n",
       "          60.0: 94,\n",
       "          61.0: 87,\n",
       "          62.0: 86,\n",
       "          63.0: 84,\n",
       "          64.0: 104,\n",
       "          65.0: 171,\n",
       "          66.0: 109,\n",
       "          67.0: 115,\n",
       "          68.0: 124,\n",
       "          69.0: 92,\n",
       "          70.0: 89,\n",
       "          71.0: 74,\n",
       "          72.0: 85,\n",
       "          73.0: 84,\n",
       "          74.0: 114,\n",
       "          75.0: 87,\n",
       "          76.0: 101,\n",
       "          77.0: 92,\n",
       "          78.0: 75,\n",
       "          79.0: 93,\n",
       "          80.0: 95,\n",
       "          81.0: 93,\n",
       "          82.0: 110,\n",
       "          83.0: 93,\n",
       "          84.0: 84,\n",
       "          85.0: 95,\n",
       "          86.0: 271,\n",
       "          87.0: 87,\n",
       "          88.0: 86,\n",
       "          89.0: 114,\n",
       "          90.0: 88,\n",
       "          91.0: 125,\n",
       "          92.0: 134,\n",
       "          93.0: 96,\n",
       "          94.0: 87,\n",
       "          95.0: 84,\n",
       "          96.0: 99,\n",
       "          97.0: 76,\n",
       "          98.0: 115,\n",
       "          99.0: 108}),\n",
       " Counter({0.0: 134,\n",
       "          1.0: 30,\n",
       "          2.0: 28,\n",
       "          3.0: 29,\n",
       "          4.0: 46,\n",
       "          5.0: 31,\n",
       "          6.0: 29,\n",
       "          7.0: 26,\n",
       "          8.0: 27,\n",
       "          9.0: 55,\n",
       "          10.0: 31,\n",
       "          11.0: 47,\n",
       "          12.0: 30,\n",
       "          13.0: 30,\n",
       "          14.0: 19,\n",
       "          15.0: 37,\n",
       "          16.0: 100,\n",
       "          17.0: 35,\n",
       "          18.0: 29,\n",
       "          19.0: 27,\n",
       "          20.0: 32,\n",
       "          21.0: 28,\n",
       "          22.0: 31,\n",
       "          23.0: 24,\n",
       "          24.0: 25,\n",
       "          25.0: 28,\n",
       "          26.0: 24,\n",
       "          27.0: 29,\n",
       "          28.0: 20,\n",
       "          29.0: 27,\n",
       "          30.0: 170,\n",
       "          31.0: 20,\n",
       "          32.0: 36,\n",
       "          33.0: 27,\n",
       "          34.0: 32,\n",
       "          35.0: 25,\n",
       "          36.0: 25,\n",
       "          37.0: 38,\n",
       "          38.0: 22,\n",
       "          39.0: 17,\n",
       "          40.0: 27,\n",
       "          41.0: 26,\n",
       "          42.0: 18,\n",
       "          43.0: 30,\n",
       "          44.0: 42,\n",
       "          45.0: 42,\n",
       "          46.0: 18,\n",
       "          47.0: 32,\n",
       "          48.0: 25,\n",
       "          49.0: 23,\n",
       "          50.0: 22,\n",
       "          51.0: 41,\n",
       "          52.0: 34,\n",
       "          53.0: 27,\n",
       "          54.0: 25,\n",
       "          55.0: 26,\n",
       "          56.0: 66,\n",
       "          57.0: 29,\n",
       "          58.0: 26,\n",
       "          59.0: 24,\n",
       "          60.0: 23,\n",
       "          61.0: 33,\n",
       "          62.0: 25,\n",
       "          63.0: 23,\n",
       "          64.0: 27,\n",
       "          65.0: 53,\n",
       "          66.0: 38,\n",
       "          67.0: 38,\n",
       "          68.0: 33,\n",
       "          69.0: 17,\n",
       "          70.0: 28,\n",
       "          71.0: 33,\n",
       "          72.0: 24,\n",
       "          73.0: 21,\n",
       "          74.0: 33,\n",
       "          75.0: 24,\n",
       "          76.0: 21,\n",
       "          77.0: 26,\n",
       "          78.0: 25,\n",
       "          79.0: 17,\n",
       "          80.0: 20,\n",
       "          81.0: 33,\n",
       "          82.0: 32,\n",
       "          83.0: 32,\n",
       "          84.0: 31,\n",
       "          85.0: 33,\n",
       "          86.0: 71,\n",
       "          87.0: 22,\n",
       "          88.0: 29,\n",
       "          89.0: 55,\n",
       "          90.0: 29,\n",
       "          91.0: 40,\n",
       "          92.0: 33,\n",
       "          93.0: 15,\n",
       "          94.0: 21,\n",
       "          95.0: 21,\n",
       "          96.0: 27,\n",
       "          97.0: 26,\n",
       "          98.0: 38,\n",
       "          99.0: 30}))"
      ]
     },
     "execution_count": 5,
     "metadata": {},
     "output_type": "execute_result"
    }
   ],
   "source": [
    "from collections import Counter\n",
    "Counter(trainImagesList[:,0]),Counter(testImagesList[:,0])"
   ]
  },
  {
   "cell_type": "markdown",
   "metadata": {},
   "source": [
    "Counter({0.0: 620,\n",
    "         1.0: 136,\n",
    "         2.0: 104,\n",
    "         3.0: 112,\n",
    "         4.0: 218,\n",
    "         5.0: 120,\n",
    "         6.0: 107,\n",
    "         7.0: 100,\n",
    "         8.0: 148,\n",
    "         9.0: 233,\n",
    "         10.0: 134,\n",
    "         11.0: 163,\n",
    "         12.0: 130,\n",
    "         13.0: 152,\n",
    "         14.0: 106,\n",
    "         15.0: 163,\n",
    "         16.0: 353,\n",
    "         17.0: 139,\n",
    "         18.0: 112,\n",
    "         19.0: 131,\n",
    "         20.0: 151,\n",
    "         21.0: 137,\n",
    "         22.0: 134,\n",
    "         23.0: 115,\n",
    "         24.0: 115,\n",
    "         25.0: 120,\n",
    "         26.0: 126,\n",
    "         27.0: 101,\n",
    "         28.0: 102,\n",
    "         29.0: 115,\n",
    "         30.0: 728,\n",
    "         31.0: 113,\n",
    "         32.0: 118,\n",
    "         33.0: 112,\n",
    "         34.0: 121,\n",
    "         35.0: 107,\n",
    "         36.0: 113,\n",
    "         37.0: 167,\n",
    "         38.0: 106,\n",
    "         39.0: 105,\n",
    "         40.0: 121,\n",
    "         41.0: 116,\n",
    "         42.0: 104,\n",
    "         43.0: 124,\n",
    "         44.0: 181,\n",
    "         45.0: 150,\n",
    "         46.0: 122,\n",
    "         47.0: 105,\n",
    "         48.0: 102,\n",
    "         49.0: 108,\n",
    "         50.0: 118,\n",
    "         51.0: 154,\n",
    "         52.0: 140,\n",
    "         53.0: 102,\n",
    "         54.0: 109,\n",
    "         55.0: 116,\n",
    "         56.0: 246,\n",
    "         57.0: 135,\n",
    "         58.0: 108,\n",
    "         59.0: 110,\n",
    "         60.0: 117,\n",
    "         61.0: 120,\n",
    "         62.0: 111,\n",
    "         63.0: 107,\n",
    "         64.0: 131,\n",
    "         65.0: 224,\n",
    "         66.0: 147,\n",
    "         67.0: 153,\n",
    "         68.0: 157,\n",
    "         69.0: 109,\n",
    "         70.0: 117,\n",
    "         71.0: 107,\n",
    "         72.0: 109,\n",
    "         73.0: 105,\n",
    "         74.0: 147,\n",
    "         75.0: 111,\n",
    "         76.0: 122,\n",
    "         77.0: 118,\n",
    "         78.0: 100,\n",
    "         79.0: 110,\n",
    "         80.0: 115,\n",
    "         81.0: 126,\n",
    "         82.0: 142,\n",
    "         83.0: 125,\n",
    "         84.0: 115,\n",
    "         85.0: 128,\n",
    "         86.0: 342,\n",
    "         87.0: 109,\n",
    "         88.0: 115,\n",
    "         89.0: 169,\n",
    "         90.0: 117,\n",
    "         91.0: 165,\n",
    "         92.0: 167,\n",
    "         93.0: 111,\n",
    "         94.0: 108,\n",
    "         95.0: 105,\n",
    "         96.0: 126,\n",
    "         97.0: 102,\n",
    "         98.0: 153,\n",
    "         99.0: 138})"
   ]
  },
  {
   "cell_type": "code",
   "execution_count": null,
   "metadata": {
    "collapsed": true
   },
   "outputs": [],
   "source": [
    "# images_norm = imagesList[:,1:]\n",
    "# labels = imagesList[:,0]\n",
    "# from sklearn.preprocessing import normalize\n",
    "# images_norm = normalize(images_norm)\n",
    "\n",
    "# print (images_norm.shape)\n",
    "# print('labels',labels.shape)\n",
    "# print(images_norm[324])\n",
    "# print(np.unique(images_norm))\n",
    "# trainImagesList = images_norm[0:int(images_norm.__len__() * .8), :]\n",
    "# testImagesList = images_norm[int(images_norm.__len__() * .8):, :]\n",
    "\n",
    "# trainImagesList_labels = labels[0:int(labels.__len__() * .8)]\n",
    "# testImagesList_labels = labels[int(labels.__len__() * .8):]\n",
    "\n",
    "# print ('trainImagesList', trainImagesList.shape)\n",
    "# print ('testImagesList', testImagesList.shape)\n",
    "# print ('trainImagesList_labels', trainImagesList_labels.shape)\n",
    "# print ('testImagesList_labels', testImagesList_labels.shape)\n",
    "# # images = norm2\n"
   ]
  },
  {
   "cell_type": "code",
   "execution_count": 28,
   "metadata": {},
   "outputs": [
    {
     "name": "stdout",
     "output_type": "stream",
     "text": [
      "batch_size : 11055\n",
      "hidden_num : 2500\n"
     ]
    }
   ],
   "source": [
    "epoch = 1\n",
    "batch_size = trainImagesList.__len__() / epoch\n",
    "hidden_num = 2500\n",
    "_inputs = 1664\n",
    "_outputs = 100\n",
    "elm = ELM(_inputs, _outputs, batch=batch_size)\n",
    "elm.add_neurons(hidden_num, \"tanh\")\n",
    "print(\"batch_size : {}\".format(batch_size))\n",
    "print(\"hidden_num : {}\".format(hidden_num))\n"
   ]
  },
  {
   "cell_type": "code",
   "execution_count": 29,
   "metadata": {},
   "outputs": [
    {
     "name": "stdout",
     "output_type": "stream",
     "text": [
      "batch : 1\n",
      "2.51234412193 seconds\n"
     ]
    }
   ],
   "source": [
    "k=1\n",
    "old_batch_size_k = 0\n",
    "data = trainImagesList\n",
    "start_time = time.time()\n",
    "while k <= epoch:\n",
    "    # shuffle(trainImagesList)\n",
    "    print(\"batch : {}\".format(k))\n",
    "    # print (data.shape, data.dtype)\n",
    "    # dynamic\n",
    "#     train_x = np.array(data[old_batch_size_k:(batch_size * k), 1:], dtype=\"float\")\n",
    "#     train_y = np.array(data[old_batch_size_k:(batch_size * k), 0], dtype=\"int\")\n",
    "#     if k == epoch:\n",
    "#         train_x = np.array(data[old_batch_size_k:, 1:], dtype=\"float\")\n",
    "#         train_y = np.array(data[old_batch_size_k:, 0], dtype=\"int\")\n",
    "#     old_batch_size_k = batch_size * k\n",
    "\n",
    "#     # whole\n",
    "#     train_x = np.array(data[:, 1:], dtype=\"float\")\n",
    "    train_y = np.array(data[:, 0], dtype=\"int\")\n",
    "    #separate labels and images \n",
    "#     train_x = np.array(trainImagesList, dtype=\"float\")\n",
    "#     train_y = np.array(trainImagesList_labels, dtype=\"int\")\n",
    "    \n",
    "#     print (\"X\", train_x.shape)\n",
    "#     print (\"Y\", train_y.shape)\n",
    "    # end whole\n",
    "    train_y = np.eye(np.max(train_y) + 1)[train_y]\n",
    "    elm.train(np.array(data[:, 1:], dtype=\"float\"), train_y)\n",
    "    k += 1\n",
    "\n",
    "end_time = time.time()\n",
    "print(\"%s seconds\" % (end_time - start_time))"
   ]
  },
  {
   "cell_type": "code",
   "execution_count": 30,
   "metadata": {
    "collapsed": true
   },
   "outputs": [],
   "source": [
    "def predict(_testImagesList):\n",
    "    # testImagesList = np.load(testPath)\n",
    "    testList = _testImagesList\n",
    "\n",
    "    # print ('testImagesList', testList, testList.shape)\n",
    "    test_x = np.array(testList[:, 1:], dtype=\"float\")\n",
    "    test_y = np.array(testList[:, 0], dtype=\"int\")\n",
    "    test_y = np.eye(np.max(test_y) + 1)[test_y]\n",
    "    #\n",
    "    Y = elm.predict(test_x)\n",
    "    predict = []\n",
    "    for y in Y:\n",
    "        predict.append(y.argmax())\n",
    "\n",
    "    gt = []\n",
    "    for y in test_y:\n",
    "        gt.append(y.argmax())\n",
    "\n",
    "    save = []\n",
    "    for _ in np.arange(0, len(gt)):\n",
    "        k = True if gt[_] == predict[_] else False\n",
    "        save.append(k)\n",
    "\n",
    "    return save,gt,predict"
   ]
  },
  {
   "cell_type": "code",
   "execution_count": 31,
   "metadata": {
    "collapsed": true
   },
   "outputs": [],
   "source": [
    "def predict_n(_testImagesList,n=5):\n",
    "    # testImagesList = np.load(testPath)\n",
    "    testList = _testImagesList\n",
    "\n",
    "    # print ('testImagesList', testList, testList.shape)\n",
    "    test_x = np.array(testList[:, 1:], dtype=\"float\")\n",
    "    test_y = np.array(testList[:, 0], dtype=\"int\")\n",
    "    test_y = np.eye(np.max(test_y) + 1)[test_y]\n",
    "    #\n",
    "    Y = elm.predict(test_x)\n",
    "    predict = []\n",
    "    for y in Y:\n",
    "        predict.append(np.argsort(y)[-n:])\n",
    "\n",
    "    gt = []\n",
    "    for y in test_y:\n",
    "        gt.append(y.argmax())\n",
    "\n",
    "    save = []\n",
    "    for _ in np.arange(0, len(gt)):\n",
    "        k = True if gt[_] in predict[_] else False\n",
    "        save.append(k)\n",
    "\n",
    "    return save,gt,predict"
   ]
  },
  {
   "cell_type": "code",
   "execution_count": 12,
   "metadata": {
    "collapsed": true
   },
   "outputs": [],
   "source": [
    "def plot_confusion_matrix(cm, classes,\n",
    "                          normalize=False,\n",
    "                          title='Confusion matrix',\n",
    "                          cmap=plt.cm.Blues):\n",
    "    \"\"\"\n",
    "    This function prints and plots the confusion matrix.\n",
    "    Normalization can be applied by setting `normalize=True`.\n",
    "    \"\"\"\n",
    "    if normalize:\n",
    "        cm = cm.astype('float') / cm.sum(axis=1)[:, np.newaxis]\n",
    "        print(\"Normalized confusion matrix\")\n",
    "    else:\n",
    "        print('Confusion matrix, without normalization')\n",
    "\n",
    "    print(cm)\n",
    "\n",
    "    plt.imshow(cm, interpolation='nearest', cmap=cmap)\n",
    "    plt.title(title)\n",
    "    plt.colorbar()\n",
    "    tick_marks = np.arange(len(classes))\n",
    "    plt.xticks(tick_marks, classes, rotation=45)\n",
    "    plt.yticks(tick_marks, classes)\n",
    "\n",
    "    fmt = '.2f' if normalize else 'd'\n",
    "    thresh = cm.max() / 2.\n",
    "    for i, j in itertools.product(range(cm.shape[0]), range(cm.shape[1])):\n",
    "        plt.text(j, i, format(cm[i, j], fmt),\n",
    "                 horizontalalignment=\"center\",\n",
    "                 color=\"black\" if cm[i, j] > thresh else \"white\")\n",
    "\n",
    "    plt.tight_layout()\n",
    "    plt.ylabel('True label')\n",
    "    plt.xlabel('Predicted label')\n",
    "    \n",
    "    plt.show()"
   ]
  },
  {
   "cell_type": "code",
   "execution_count": 13,
   "metadata": {
    "collapsed": true
   },
   "outputs": [],
   "source": [
    "# def predict_labels(_testImagesList,_labels):\n",
    "#     # testImagesList = np.load(testPath)\n",
    "#     testList = _testImagesList\n",
    "#     labels = _labels\n",
    "\n",
    "#     # print ('testImagesList', testList, testList.shape)\n",
    "#     test_x = np.array(testList, dtype=\"float\")\n",
    "#     test_y = np.array(labels, dtype=\"int\")\n",
    "#     test_y = np.eye(np.max(test_y) + 1)[test_y]\n",
    "#     #\n",
    "#     Y = elm.predict(test_x)\n",
    "#     predict = []\n",
    "#     for y in Y:\n",
    "#         predict.append(y.argmax())\n",
    "\n",
    "#     gt = []\n",
    "#     for y in test_y:\n",
    "#         gt.append(y.argmax())\n",
    "\n",
    "#     save = []\n",
    "#     for _ in np.arange(0, len(gt)):\n",
    "#         k = True if gt[_] == predict[_] else False\n",
    "#         save.append(k)\n",
    "\n",
    "#     return save"
   ]
  },
  {
   "cell_type": "code",
   "execution_count": 32,
   "metadata": {},
   "outputs": [
    {
     "name": "stdout",
     "output_type": "stream",
     "text": [
      "test accuracy: 0.750227066303\n",
      "train accuracy: 0.983536861149\n"
     ]
    }
   ],
   "source": [
    "test,gt,prd = predict(testImagesList)\n",
    "print(\"test accuracy: {0}\".format(np.mean(test)))\n",
    "train,tgt,tprd = predict(trainImagesList)\n",
    "print(\"train accuracy: {0}\".format(np.mean(train)))"
   ]
  },
  {
   "cell_type": "code",
   "execution_count": 33,
   "metadata": {},
   "outputs": [
    {
     "name": "stdout",
     "output_type": "stream",
     "text": [
      "test accuracy: 0.919467151075\n",
      "train accuracy: 1.0\n"
     ]
    }
   ],
   "source": [
    "test,gt,prd = predict_n(testImagesList,5)\n",
    "print(\"test accuracy: {0}\".format(np.mean(test)))\n",
    "train,tgt,tprd = predict_n(trainImagesList,5)\n",
    "print(\"train accuracy: {0}\".format(np.mean(train)))"
   ]
  },
  {
   "cell_type": "code",
   "execution_count": 19,
   "metadata": {},
   "outputs": [
    {
     "data": {
      "image/png": "[encoded data removed]",
      "text/plain": [
       "<matplotlib.figure.Figure at 0x7f5e8ed2bc50>"
      ]
     },
     "metadata": {},
     "output_type": "display_data"
    }
   ],
   "source": [
    "\n",
    "cnf_matrix = confusion_matrix(gt, prd, labels=list(range(101)))\n",
    "# Plot non-normalized confusion matrix\n",
    "plt.matshow(cnf_matrix)\n",
    "plt.title('Confusion matrix')\n",
    "plt.colorbar()\n",
    "plt.ylabel('True label')\n",
    "plt.xlabel('Predicted label')\n",
    "plt.savefig('cnf_matrix.png',dpi = 300)\n",
    "\n",
    "plt.show()\n"
   ]
  },
  {
   "cell_type": "code",
   "execution_count": 16,
   "metadata": {},
   "outputs": [
    {
     "data": {
      "text/plain": [
       "0.82851485148514847"
      ]
     },
     "execution_count": 16,
     "metadata": {},
     "output_type": "execute_result"
    }
   ],
   "source": [
    "accuracy_score(gt,prd)"
   ]
  },
  {
   "cell_type": "markdown",
   "metadata": {},
   "source": [
    "Results : \n",
    "\n",
    "food101\n",
    "\n",
    "test accuracy: 0.939603960396\n",
    "\n",
    "train accuracy: 0.953267326733\n",
    "\n",
    "UECFOOD256-Cropped\n",
    "\n",
    "test accuracy: 0.632087492037\n",
    "\n",
    "train accuracy: 0.930099208155\n",
    "\n",
    "UECFOOD256\n",
    "\n",
    "test accuracy: 0.558551863255\n",
    "\n",
    "train accuracy: 0.89010738988\n",
    "\n",
    "\n",
    "UECFOOD100\n",
    "\n",
    "test accuracy: 0.74791086351\n",
    "\n",
    "train accuracy: 0.984378109453\n",
    "\n",
    "===========================\n",
    "\n",
    "Aug 27 epoch - aug with crops \n",
    "\n",
    "UECFOOD100 - top5 \n",
    "\n",
    "test accuracy: 0.918871866295\n",
    "\n",
    "train accuracy: 1.0\n",
    "\n",
    "\n",
    "UECFOOD100 - top1 \n",
    "\n",
    "test accuracy: 0.750227066303\n",
    "\n",
    "train accuracy: 0.983536861149"
   ]
  },
  {
   "cell_type": "code",
   "execution_count": null,
   "metadata": {
    "collapsed": true
   },
   "outputs": [],
   "source": [
    "# test = predict_labels(testImagesList,testImagesList_labels)\n",
    "# print(\"test accuracy: {0}\".format(np.mean(test)))\n",
    "# train = predict_labels(trainImagesList,trainImagesList_labels)\n",
    "# print(\"train accuracy: {0}\".format(np.mean(train)))\n",
    "# test accuracy: 0.90003960396\n",
    "# train accuracy: 0.92598019802"
   ]
  },
  {
   "cell_type": "markdown",
   "metadata": {},
   "source": [
    "test accuracy: 0.867333333333\n",
    "train accuracy: 0.992444444444"
   ]
  },
  {
   "cell_type": "code",
   "execution_count": null,
   "metadata": {
    "collapsed": true
   },
   "outputs": [],
   "source": [
    "p = elm.predict(np.array(testImagesList[:, 1:], dtype=\"float\"))"
   ]
  },
  {
   "cell_type": "code",
   "execution_count": null,
   "metadata": {
    "collapsed": true
   },
   "outputs": [],
   "source": [
    "arg_sort = lambda x:  np.argsort(x)[::-1]"
   ]
  },
  {
   "cell_type": "code",
   "execution_count": null,
   "metadata": {
    "collapsed": true
   },
   "outputs": [],
   "source": [
    "z.shape"
   ]
  },
  {
   "cell_type": "code",
   "execution_count": null,
   "metadata": {
    "collapsed": true
   },
   "outputs": [],
   "source": [
    "topk = 5\n",
    "z = arg_sort(p)\n",
    "# print(testImagesList[0, 0], z[0,:topk])\n",
    "tru = 0\n",
    "fal = 0\n",
    "for i in range(len(testImagesList)):\n",
    "    if testImagesList[i, 0] in z[i,:topk]:\n",
    "        print(testImagesList[i, 0] , z[i,:topk])\n",
    "        tru += 1\n",
    "    else:\n",
    "        fal += 1\n",
    "float(tru/fal)\n",
    "print(tru, fal)"
   ]
  },
  {
   "cell_type": "code",
   "execution_count": null,
   "metadata": {
    "collapsed": true
   },
   "outputs": [],
   "source": []
  }
 ],
 "metadata": {
  "kernelspec": {
   "display_name": "Python 2",
   "language": "python",
   "name": "python2"
  },
  "language_info": {
   "codemirror_mode": {
    "name": "ipython",
    "version": 2
   },
   "file_extension": ".py",
   "mimetype": "text/x-python",
   "name": "python",
   "nbconvert_exporter": "python",
   "pygments_lexer": "ipython2",
   "version": "2.7.12"
  }
 },
 "nbformat": 4,
 "nbformat_minor": 2
}
