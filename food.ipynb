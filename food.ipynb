{
 "cells": [
  {
   "cell_type": "code",
   "execution_count": 19,
   "metadata": {
    "collapsed": true
   },
   "outputs": [],
   "source": [
    "from hpelm import ELM\n",
    "import numpy as np\n",
    "import time\n",
    "from sklearn.utils import shuffle"
   ]
  },
  {
   "cell_type": "code",
   "execution_count": 18,
   "metadata": {
    "collapsed": true
   },
   "outputs": [],
   "source": [
    "# from PIL import Image\n",
    "# from numpy import array\n",
    "# from scipy.misc import imresize"
   ]
  },
  {
   "cell_type": "code",
   "execution_count": 19,
   "metadata": {
    "collapsed": true
   },
   "outputs": [],
   "source": [
    "# from os import listdir\n",
    "# from os.path import isfile, join\n",
    "# from cutImages import cut_image\n",
    "\n",
    "\n",
    "# def read_images(path):\n",
    "#     fullList = []\n",
    "#     for c in range(1, 100):\n",
    "#         mypath = path + str(c) + \"/\"\n",
    "#         onlyfiles = [f for f in listdir(mypath) if isfile(join(mypath, f))]\n",
    "#         print (len(onlyfiles), c)\n",
    "#         for x in onlyfiles:\n",
    "#             if x == 'bb_info.txt':\n",
    "#                 continue\n",
    "#             img = cut_image(mypath + x)\n",
    "#             arr = array(img)\n",
    "#             arr = imresize(arr, [32, 32, 3])\n",
    "#             r = arr[:, :, 0].flatten()\n",
    "#             g = arr[:, :, 1].flatten()\n",
    "#             b = arr[:, :, 2].flatten()\n",
    "#             label = [c]\n",
    "#             out = np.array(list(label) + list(r) + list(g) + list(b), np.int)\n",
    "#             fullList.append(out)\n",
    "#     shuffle(fullList)\n",
    "#     imagesList = np.array(fullList, dtype=int)\n",
    "#     print (\"images shape: {}\".format(imagesList.shape))\n",
    "#     return imagesList"
   ]
  },
  {
   "cell_type": "code",
   "execution_count": 110,
   "metadata": {},
   "outputs": [],
   "source": [
    "# imagesList = np.load('UECFOOD_100_1000Features_train.npy')\n",
    "trainingdata = np.loadtxt('/home/arl/food/Food-Dataset/UECFOOD100-Cropped//1664features-cnn-finetuned-food101.svm')"
   ]
  },
  {
   "cell_type": "code",
   "execution_count": 111,
   "metadata": {},
   "outputs": [
    {
     "data": {
      "text/plain": [
       "(14358, 1665)"
      ]
     },
     "execution_count": 111,
     "metadata": {},
     "output_type": "execute_result"
    }
   ],
   "source": [
    "trainingdata.shape"
   ]
  },
  {
   "cell_type": "markdown",
   "metadata": {
    "collapsed": true
   },
   "source": [
    "from cPickle import load\n",
    "all_features_file = '/media/aymen/DATA/datasets/ghalib-features/data_features_orb_UECFOOD100.pickle'\n",
    "all_features = load(open(all_features_file, 'rb'))"
   ]
  },
  {
   "cell_type": "markdown",
   "metadata": {},
   "source": [
    "img_class = all_features[0][0].split('/')[-2]\n",
    "print(img_class)"
   ]
  },
  {
   "cell_type": "markdown",
   "metadata": {},
   "source": [
    "fet = all_features[0][1]\n",
    "print fet.shape"
   ]
  },
  {
   "cell_type": "markdown",
   "metadata": {},
   "source": [
    "count = 0 \n",
    "for i, val in all_features:\n",
    "    if count < 3 :\n",
    "        img_class = i.split('/')[-2]\n",
    "        print img_class, val\n",
    "        count +=1\n",
    "    else:\n",
    "        break\n",
    "        "
   ]
  },
  {
   "cell_type": "code",
   "execution_count": 127,
   "metadata": {},
   "outputs": [
    {
     "name": "stdout",
     "output_type": "stream",
     "text": [
      "('imaglist full', (14358, 1665))\n",
      "('trainImagesList', (12922, 1665))\n",
      "('testImagesList', (1436, 1665))\n",
      "14358\n",
      "[ 5.        0.        0.       ...,  1.272569  0.743463  1.242655]\n",
      "[  0.   1.   2.   3.   4.   5.   6.   7.   8.   9.  10.  11.  12.  13.  14.\n",
      "  15.  16.  17.  18.  19.  20.  21.  22.  23.  24.  25.  26.  27.  28.  29.\n",
      "  30.  31.  32.  33.  34.  35.  36.  37.  38.  39.  40.  41.  42.  43.  44.\n",
      "  45.  46.  47.  48.  49.  50.  51.  52.  53.  54.  55.  56.  57.  58.  59.\n",
      "  60.  61.  62.  63.  64.  65.  66.  67.  68.  69.  70.  71.  72.  73.  74.\n",
      "  75.  76.  77.  78.  79.  80.  81.  82.  83.  84.  85.  86.  87.  88.  89.\n",
      "  90.  91.  92.  93.  94.  95.  96.  97.  98.  99.]\n"
     ]
    }
   ],
   "source": [
    "imagesList = shuffle(trainingdata)\n",
    "# index = np.argwhere(imagesList== 175.0)\n",
    "# imagesList = np.delete(imagesList, index,axis=0)\n",
    "precentage = 0.9\n",
    "print ('imaglist full', imagesList.shape)\n",
    "trainImagesList = imagesList[0:int(imagesList.__len__() * precentage), :]\n",
    "testImagesList = imagesList[int(imagesList.__len__() * precentage):, :]\n",
    "print ('trainImagesList', trainImagesList.shape)\n",
    "print ('testImagesList', testImagesList.shape)\n",
    "print (trainImagesList.shape[0] + testImagesList.shape[0])\n",
    "print(imagesList[3])\n",
    "print(np.unique(imagesList[:,0]))"
   ]
  },
  {
   "cell_type": "code",
   "execution_count": 128,
   "metadata": {},
   "outputs": [
    {
     "data": {
      "text/plain": [
       "Counter({0.0: 620,\n",
       "         1.0: 136,\n",
       "         2.0: 104,\n",
       "         3.0: 112,\n",
       "         4.0: 218,\n",
       "         5.0: 120,\n",
       "         6.0: 107,\n",
       "         7.0: 100,\n",
       "         8.0: 148,\n",
       "         9.0: 233,\n",
       "         10.0: 134,\n",
       "         11.0: 163,\n",
       "         12.0: 130,\n",
       "         13.0: 152,\n",
       "         14.0: 106,\n",
       "         15.0: 163,\n",
       "         16.0: 353,\n",
       "         17.0: 139,\n",
       "         18.0: 112,\n",
       "         19.0: 131,\n",
       "         20.0: 151,\n",
       "         21.0: 137,\n",
       "         22.0: 134,\n",
       "         23.0: 115,\n",
       "         24.0: 115,\n",
       "         25.0: 120,\n",
       "         26.0: 126,\n",
       "         27.0: 101,\n",
       "         28.0: 102,\n",
       "         29.0: 115,\n",
       "         30.0: 728,\n",
       "         31.0: 113,\n",
       "         32.0: 118,\n",
       "         33.0: 112,\n",
       "         34.0: 121,\n",
       "         35.0: 107,\n",
       "         36.0: 113,\n",
       "         37.0: 167,\n",
       "         38.0: 106,\n",
       "         39.0: 105,\n",
       "         40.0: 121,\n",
       "         41.0: 116,\n",
       "         42.0: 104,\n",
       "         43.0: 124,\n",
       "         44.0: 181,\n",
       "         45.0: 150,\n",
       "         46.0: 122,\n",
       "         47.0: 105,\n",
       "         48.0: 102,\n",
       "         49.0: 108,\n",
       "         50.0: 118,\n",
       "         51.0: 154,\n",
       "         52.0: 140,\n",
       "         53.0: 102,\n",
       "         54.0: 109,\n",
       "         55.0: 116,\n",
       "         56.0: 246,\n",
       "         57.0: 135,\n",
       "         58.0: 108,\n",
       "         59.0: 110,\n",
       "         60.0: 117,\n",
       "         61.0: 120,\n",
       "         62.0: 111,\n",
       "         63.0: 107,\n",
       "         64.0: 131,\n",
       "         65.0: 224,\n",
       "         66.0: 147,\n",
       "         67.0: 153,\n",
       "         68.0: 157,\n",
       "         69.0: 109,\n",
       "         70.0: 117,\n",
       "         71.0: 107,\n",
       "         72.0: 109,\n",
       "         73.0: 105,\n",
       "         74.0: 147,\n",
       "         75.0: 111,\n",
       "         76.0: 122,\n",
       "         77.0: 118,\n",
       "         78.0: 100,\n",
       "         79.0: 110,\n",
       "         80.0: 115,\n",
       "         81.0: 126,\n",
       "         82.0: 142,\n",
       "         83.0: 125,\n",
       "         84.0: 115,\n",
       "         85.0: 128,\n",
       "         86.0: 342,\n",
       "         87.0: 109,\n",
       "         88.0: 115,\n",
       "         89.0: 169,\n",
       "         90.0: 117,\n",
       "         91.0: 165,\n",
       "         92.0: 167,\n",
       "         93.0: 111,\n",
       "         94.0: 108,\n",
       "         95.0: 105,\n",
       "         96.0: 126,\n",
       "         97.0: 102,\n",
       "         98.0: 153,\n",
       "         99.0: 138})"
      ]
     },
     "execution_count": 128,
     "metadata": {},
     "output_type": "execute_result"
    }
   ],
   "source": [
    "from collections import Counter\n",
    "Counter(imagesList[:,0])"
   ]
  },
  {
   "cell_type": "markdown",
   "metadata": {},
   "source": [
    "Counter({0.0: 620,\n",
    "         1.0: 136,\n",
    "         2.0: 104,\n",
    "         3.0: 112,\n",
    "         4.0: 218,\n",
    "         5.0: 120,\n",
    "         6.0: 107,\n",
    "         7.0: 100,\n",
    "         8.0: 148,\n",
    "         9.0: 233,\n",
    "         10.0: 134,\n",
    "         11.0: 163,\n",
    "         12.0: 130,\n",
    "         13.0: 152,\n",
    "         14.0: 106,\n",
    "         15.0: 163,\n",
    "         16.0: 353,\n",
    "         17.0: 139,\n",
    "         18.0: 112,\n",
    "         19.0: 131,\n",
    "         20.0: 151,\n",
    "         21.0: 137,\n",
    "         22.0: 134,\n",
    "         23.0: 115,\n",
    "         24.0: 115,\n",
    "         25.0: 120,\n",
    "         26.0: 126,\n",
    "         27.0: 101,\n",
    "         28.0: 102,\n",
    "         29.0: 115,\n",
    "         30.0: 728,\n",
    "         31.0: 113,\n",
    "         32.0: 118,\n",
    "         33.0: 112,\n",
    "         34.0: 121,\n",
    "         35.0: 107,\n",
    "         36.0: 113,\n",
    "         37.0: 167,\n",
    "         38.0: 106,\n",
    "         39.0: 105,\n",
    "         40.0: 121,\n",
    "         41.0: 116,\n",
    "         42.0: 104,\n",
    "         43.0: 124,\n",
    "         44.0: 181,\n",
    "         45.0: 150,\n",
    "         46.0: 122,\n",
    "         47.0: 105,\n",
    "         48.0: 102,\n",
    "         49.0: 108,\n",
    "         50.0: 118,\n",
    "         51.0: 154,\n",
    "         52.0: 140,\n",
    "         53.0: 102,\n",
    "         54.0: 109,\n",
    "         55.0: 116,\n",
    "         56.0: 246,\n",
    "         57.0: 135,\n",
    "         58.0: 108,\n",
    "         59.0: 110,\n",
    "         60.0: 117,\n",
    "         61.0: 120,\n",
    "         62.0: 111,\n",
    "         63.0: 107,\n",
    "         64.0: 131,\n",
    "         65.0: 224,\n",
    "         66.0: 147,\n",
    "         67.0: 153,\n",
    "         68.0: 157,\n",
    "         69.0: 109,\n",
    "         70.0: 117,\n",
    "         71.0: 107,\n",
    "         72.0: 109,\n",
    "         73.0: 105,\n",
    "         74.0: 147,\n",
    "         75.0: 111,\n",
    "         76.0: 122,\n",
    "         77.0: 118,\n",
    "         78.0: 100,\n",
    "         79.0: 110,\n",
    "         80.0: 115,\n",
    "         81.0: 126,\n",
    "         82.0: 142,\n",
    "         83.0: 125,\n",
    "         84.0: 115,\n",
    "         85.0: 128,\n",
    "         86.0: 342,\n",
    "         87.0: 109,\n",
    "         88.0: 115,\n",
    "         89.0: 169,\n",
    "         90.0: 117,\n",
    "         91.0: 165,\n",
    "         92.0: 167,\n",
    "         93.0: 111,\n",
    "         94.0: 108,\n",
    "         95.0: 105,\n",
    "         96.0: 126,\n",
    "         97.0: 102,\n",
    "         98.0: 153,\n",
    "         99.0: 138})"
   ]
  },
  {
   "cell_type": "code",
   "execution_count": 129,
   "metadata": {
    "collapsed": true
   },
   "outputs": [],
   "source": [
    "# images_norm = imagesList[:,1:]\n",
    "# labels = imagesList[:,0]\n",
    "# from sklearn.preprocessing import normalize\n",
    "# images_norm = normalize(images_norm)\n",
    "\n",
    "# print (images_norm.shape)\n",
    "# print('labels',labels.shape)\n",
    "# print(images_norm[324])\n",
    "# print(np.unique(images_norm))\n",
    "# trainImagesList = images_norm[0:int(images_norm.__len__() * .8), :]\n",
    "# testImagesList = images_norm[int(images_norm.__len__() * .8):, :]\n",
    "\n",
    "# trainImagesList_labels = labels[0:int(labels.__len__() * .8)]\n",
    "# testImagesList_labels = labels[int(labels.__len__() * .8):]\n",
    "\n",
    "# print ('trainImagesList', trainImagesList.shape)\n",
    "# print ('testImagesList', testImagesList.shape)\n",
    "# print ('trainImagesList_labels', trainImagesList_labels.shape)\n",
    "# print ('testImagesList_labels', testImagesList_labels.shape)\n",
    "# # images = norm2\n"
   ]
  },
  {
   "cell_type": "code",
   "execution_count": 130,
   "metadata": {},
   "outputs": [
    {
     "name": "stdout",
     "output_type": "stream",
     "text": [
      "batch_size : 12922\n",
      "hidden_num : 2500\n"
     ]
    }
   ],
   "source": [
    "epoch = 1\n",
    "batch_size = trainImagesList.__len__() / epoch\n",
    "hidden_num = 2500\n",
    "_inputs = 1664\n",
    "_outputs = 100\n",
    "elm = ELM(_inputs, _outputs, batch=batch_size)\n",
    "elm.add_neurons(hidden_num, \"tanh\")\n",
    "print(\"batch_size : {}\".format(batch_size))\n",
    "print(\"hidden_num : {}\".format(hidden_num))"
   ]
  },
  {
   "cell_type": "code",
   "execution_count": 131,
   "metadata": {},
   "outputs": [
    {
     "name": "stdout",
     "output_type": "stream",
     "text": [
      "batch : 1\n",
      "('X', (12922, 1664))\n",
      "('Y', (12922,))\n",
      "2.15190696716 seconds\n"
     ]
    }
   ],
   "source": [
    "k=1\n",
    "old_batch_size_k = 0\n",
    "data = trainImagesList\n",
    "start_time = time.time()\n",
    "while k <= epoch:\n",
    "    # shuffle(trainImagesList)\n",
    "    print(\"batch : {}\".format(k))\n",
    "    # print (data.shape, data.dtype)\n",
    "    # dynamic\n",
    "#     train_x = np.array(data[old_batch_size_k:(batch_size * k), 1:], dtype=\"float\")\n",
    "#     train_y = np.array(data[old_batch_size_k:(batch_size * k), 0], dtype=\"int\")\n",
    "#     if k == epoch:\n",
    "#         train_x = np.array(data[old_batch_size_k:, 1:], dtype=\"float\")\n",
    "#         train_y = np.array(data[old_batch_size_k:, 0], dtype=\"int\")\n",
    "#     old_batch_size_k = batch_size * k\n",
    "\n",
    "#     # whole\n",
    "    train_x = np.array(data[:, 1:], dtype=\"float\")\n",
    "    train_y = np.array(data[:, 0], dtype=\"int\")\n",
    "    #separate labels and images \n",
    "#     train_x = np.array(trainImagesList, dtype=\"float\")\n",
    "#     train_y = np.array(trainImagesList_labels, dtype=\"int\")\n",
    "    \n",
    "    print (\"X\", train_x.shape)\n",
    "    print (\"Y\", train_y.shape)\n",
    "    # end whole\n",
    "    train_y = np.eye(np.max(train_y) + 1)[train_y]\n",
    "    elm.train(train_x, train_y)\n",
    "    k += 1\n",
    "\n",
    "end_time = time.time()\n",
    "print(\"%s seconds\" % (end_time - start_time))"
   ]
  },
  {
   "cell_type": "code",
   "execution_count": 132,
   "metadata": {
    "collapsed": true
   },
   "outputs": [],
   "source": [
    "def predict(_testImagesList):\n",
    "    # testImagesList = np.load(testPath)\n",
    "    testList = _testImagesList\n",
    "\n",
    "    # print ('testImagesList', testList, testList.shape)\n",
    "    test_x = np.array(testList[:, 1:], dtype=\"float\")\n",
    "    test_y = np.array(testList[:, 0], dtype=\"int\")\n",
    "    test_y = np.eye(np.max(test_y) + 1)[test_y]\n",
    "    #\n",
    "    Y = elm.predict(test_x)\n",
    "    predict = []\n",
    "    for y in Y:\n",
    "        predict.append(y.argmax())\n",
    "\n",
    "    gt = []\n",
    "    for y in test_y:\n",
    "        gt.append(y.argmax())\n",
    "\n",
    "    save = []\n",
    "    for _ in np.arange(0, len(gt)):\n",
    "        k = True if gt[_] == predict[_] else False\n",
    "        save.append(k)\n",
    "\n",
    "    return save"
   ]
  },
  {
   "cell_type": "code",
   "execution_count": null,
   "metadata": {
    "collapsed": true
   },
   "outputs": [],
   "source": []
  },
  {
   "cell_type": "code",
   "execution_count": 133,
   "metadata": {
    "collapsed": true
   },
   "outputs": [],
   "source": [
    "# def predict_labels(_testImagesList,_labels):\n",
    "#     # testImagesList = np.load(testPath)\n",
    "#     testList = _testImagesList\n",
    "#     labels = _labels\n",
    "\n",
    "#     # print ('testImagesList', testList, testList.shape)\n",
    "#     test_x = np.array(testList, dtype=\"float\")\n",
    "#     test_y = np.array(labels, dtype=\"int\")\n",
    "#     test_y = np.eye(np.max(test_y) + 1)[test_y]\n",
    "#     #\n",
    "#     Y = elm.predict(test_x)\n",
    "#     predict = []\n",
    "#     for y in Y:\n",
    "#         predict.append(y.argmax())\n",
    "\n",
    "#     gt = []\n",
    "#     for y in test_y:\n",
    "#         gt.append(y.argmax())\n",
    "\n",
    "#     save = []\n",
    "#     for _ in np.arange(0, len(gt)):\n",
    "#         k = True if gt[_] == predict[_] else False\n",
    "#         save.append(k)\n",
    "\n",
    "#     return save"
   ]
  },
  {
   "cell_type": "code",
   "execution_count": 134,
   "metadata": {},
   "outputs": [
    {
     "name": "stdout",
     "output_type": "stream",
     "text": [
      "test accuracy: 0.771587743733\n",
      "train accuracy: 0.96974152608\n"
     ]
    }
   ],
   "source": [
    "test = predict(testImagesList)\n",
    "print(\"test accuracy: {0}\".format(np.mean(test)))\n",
    "train = predict(trainImagesList)\n",
    "print(\"train accuracy: {0}\".format(np.mean(train)))"
   ]
  },
  {
   "cell_type": "markdown",
   "metadata": {},
   "source": [
    "Results : \n",
    "\n",
    "food101\n",
    "\n",
    "test accuracy: 0.939603960396\n",
    "\n",
    "train accuracy: 0.953267326733\n",
    "\n",
    "UECFOOD256-Cropped\n",
    "\n",
    "test accuracy: 0.632087492037\n",
    "\n",
    "train accuracy: 0.930099208155\n",
    "\n",
    "UECFOOD256\n",
    "\n",
    "test accuracy: 0.558551863255\n",
    "\n",
    "train accuracy: 0.89010738988\n",
    "\n",
    "\n",
    "UECFOOD100\n",
    "\n",
    "test accuracy: 0.74791086351\n",
    "\n",
    "train accuracy: 0.984378109453"
   ]
  },
  {
   "cell_type": "code",
   "execution_count": 56,
   "metadata": {
    "collapsed": true
   },
   "outputs": [],
   "source": [
    "# test = predict_labels(testImagesList,testImagesList_labels)\n",
    "# print(\"test accuracy: {0}\".format(np.mean(test)))\n",
    "# train = predict_labels(trainImagesList,trainImagesList_labels)\n",
    "# print(\"train accuracy: {0}\".format(np.mean(train)))\n",
    "# test accuracy: 0.90003960396\n",
    "# train accuracy: 0.92598019802"
   ]
  },
  {
   "cell_type": "markdown",
   "metadata": {},
   "source": [
    "test accuracy: 0.867333333333\n",
    "train accuracy: 0.992444444444"
   ]
  },
  {
   "cell_type": "code",
   "execution_count": 171,
   "metadata": {
    "collapsed": true
   },
   "outputs": [],
   "source": [
    "p = elm.predict(np.array(testImagesList[:, 1:], dtype=\"float\"))"
   ]
  },
  {
   "cell_type": "code",
   "execution_count": 172,
   "metadata": {
    "collapsed": true
   },
   "outputs": [],
   "source": [
    "arg_sort = lambda x:  np.argsort(x)[::-1]"
   ]
  },
  {
   "cell_type": "code",
   "execution_count": 173,
   "metadata": {},
   "outputs": [
    {
     "data": {
      "text/plain": [
       "(424, 15)"
      ]
     },
     "execution_count": 173,
     "metadata": {},
     "output_type": "execute_result"
    }
   ],
   "source": [
    "z.shape"
   ]
  },
  {
   "cell_type": "code",
   "execution_count": 174,
   "metadata": {},
   "outputs": [
    {
     "name": "stdout",
     "output_type": "stream",
     "text": [
      "(0.0, array([ 0,  5, 12,  6,  4]))\n",
      "(0.0, array([ 0,  1, 13, 14,  6]))\n",
      "(9.0, array([ 1,  5,  9,  7, 11]))\n",
      "(12.0, array([12, 13,  4,  8,  3]))\n",
      "(7.0, array([ 8,  7,  2,  9, 10]))\n",
      "(0.0, array([ 0,  1,  6, 14,  5]))\n",
      "(12.0, array([11, 12,  5,  9, 14]))\n",
      "(5.0, array([12, 10,  4,  5, 11]))\n",
      "(1.0, array([ 8, 10,  1, 12,  4]))\n",
      "(2.0, array([12,  8,  7,  1,  2]))\n",
      "(5.0, array([ 7, 12,  9, 10,  5]))\n",
      "(0.0, array([ 0,  2,  3, 11,  4]))\n",
      "(12.0, array([ 1,  8, 12,  9, 11]))\n",
      "(0.0, array([ 5,  0, 13,  2, 10]))\n",
      "(12.0, array([12,  5,  7,  8,  2]))\n",
      "(0.0, array([ 0,  4,  3, 11,  7]))\n",
      "(10.0, array([ 2,  9, 10,  6,  8]))\n",
      "(0.0, array([ 2,  0, 10,  3, 14]))\n",
      "(13.0, array([ 9, 11, 13,  4,  3]))\n",
      "(12.0, array([10,  9,  1, 12,  8]))\n",
      "(9.0, array([10,  5, 12, 13,  9]))\n",
      "(10.0, array([ 1,  5,  3,  2, 10]))\n",
      "(8.0, array([ 7,  8, 11,  4,  9]))\n",
      "(0.0, array([7, 0, 5, 4, 6]))\n",
      "(0.0, array([ 2, 12,  0,  1,  3]))\n",
      "(10.0, array([ 1,  3, 14,  2, 10]))\n",
      "(9.0, array([ 2, 11,  3,  7,  9]))\n",
      "(1.0, array([ 1, 12,  4,  5,  6]))\n",
      "(0.0, array([ 0,  8, 11,  1, 14]))\n",
      "(7.0, array([12,  7,  2, 14,  3]))\n",
      "(12.0, array([12,  5,  3, 13,  6]))\n",
      "(12.0, array([12, 10, 11,  9,  7]))\n",
      "(12.0, array([ 5,  7,  8, 10, 12]))\n",
      "(0.0, array([ 8,  0,  1, 13, 10]))\n",
      "(12.0, array([10,  1,  9, 12, 11]))\n",
      "(1.0, array([12,  5,  1,  8,  6]))\n",
      "(0.0, array([10, 13,  4,  9,  0]))\n",
      "(6.0, array([10, 14,  6,  1,  2]))\n",
      "(0.0, array([0, 6, 7, 3, 4]))\n",
      "(0.0, array([12,  0,  2,  8,  6]))\n",
      "(12.0, array([12,  7,  8, 14,  1]))\n",
      "(12.0, array([ 0, 12,  7,  5, 11]))\n",
      "(9.0, array([12,  4, 11,  9, 10]))\n",
      "(12.0, array([12,  7,  9,  8,  5]))\n",
      "(12.0, array([ 0,  6, 12,  9, 11]))\n",
      "(9.0, array([10,  7, 14, 13,  9]))\n",
      "(8.0, array([12,  8,  6,  3, 11]))\n",
      "(9.0, array([ 5, 12, 13,  9,  0]))\n",
      "(0.0, array([10,  0, 13,  7, 11]))\n",
      "(10.0, array([ 1, 10,  6,  4, 13]))\n",
      "(0.0, array([ 0, 10,  6,  5, 11]))\n",
      "(0.0, array([0, 5, 2, 9, 7]))\n",
      "(6.0, array([ 1,  0, 10,  6,  9]))\n",
      "(1.0, array([1, 8, 3, 2, 7]))\n",
      "(0.0, array([ 0, 13,  7,  8, 12]))\n",
      "(0.0, array([ 0, 10,  1,  4, 13]))\n",
      "(7.0, array([ 8,  0, 13,  7,  6]))\n",
      "(12.0, array([12,  9,  8, 11,  6]))\n",
      "(10.0, array([ 0,  5, 13,  7, 10]))\n",
      "(12.0, array([12,  9,  8,  7, 11]))\n",
      "(0.0, array([12, 10,  6,  9,  0]))\n",
      "(9.0, array([10,  7, 11,  9,  5]))\n",
      "(12.0, array([ 1,  9, 12, 11,  8]))\n",
      "(1.0, array([ 8,  1, 10,  3, 13]))\n",
      "(8.0, array([1, 8, 3, 2, 6]))\n",
      "(0.0, array([0, 5, 7, 1, 6]))\n",
      "(1.0, array([1, 0, 6, 9, 7]))\n",
      "(1.0, array([ 1,  8, 13,  5, 11]))\n",
      "(10.0, array([12,  8, 10,  7, 14]))\n",
      "(1.0, array([ 9,  7, 10,  1, 13]))\n",
      "(11.0, array([ 1,  7, 13,  2, 11]))\n",
      "(12.0, array([ 1, 12, 10,  3, 13]))\n",
      "(12.0, array([ 0, 10,  6, 12,  9]))\n",
      "(1.0, array([ 5,  6, 13,  9,  1]))\n",
      "(0.0, array([ 8, 12,  7,  0,  5]))\n",
      "(8.0, array([12,  8, 10, 13,  0]))\n",
      "(0.0, array([0, 8, 1, 9, 3]))\n",
      "(9.0, array([2, 7, 8, 9, 4]))\n",
      "(8.0, array([12,  8,  3,  0,  7]))\n",
      "(2.0, array([ 1,  0,  6,  2, 13]))\n",
      "(0.0, array([ 5,  2, 10,  0, 13]))\n",
      "(0.0, array([10,  0,  2,  3,  9]))\n",
      "(0.0, array([ 0,  8, 10,  1,  6]))\n",
      "(9.0, array([ 8,  5,  9,  1, 11]))\n",
      "(1.0, array([ 6,  1, 13, 10,  4]))\n",
      "(5.0, array([8, 1, 5, 7, 9]))\n",
      "(7.0, array([ 1,  8,  2,  7, 11]))\n",
      "(8.0, array([ 0,  2,  4, 13,  8]))\n",
      "(12.0, array([ 1, 12,  7,  4, 13]))\n",
      "(10.0, array([10,  7, 12, 13, 11]))\n",
      "(8.0, array([ 5,  6,  8,  2, 13]))\n",
      "(14.0, array([ 8,  6,  1, 14, 13]))\n",
      "(0.0, array([ 0,  5, 12,  8,  9]))\n",
      "(0.0, array([ 0, 12, 10,  3,  4]))\n",
      "(12.0, array([ 2,  3, 12, 13, 14]))\n",
      "(0.0, array([ 0,  7,  2,  1, 14]))\n",
      "(5.0, array([ 5, 10, 14,  4, 13]))\n",
      "(2.0, array([0, 2, 3, 6, 7]))\n",
      "(0.0, array([ 5,  0,  6, 11, 14]))\n",
      "(12.0, array([12,  9, 14,  7, 13]))\n",
      "(2.0, array([ 1,  4,  8,  2, 13]))\n",
      "(0.0, array([ 0,  5,  6,  3, 13]))\n",
      "(6.0, array([10,  6,  1, 12, 11]))\n",
      "(8.0, array([ 5, 14,  8,  7,  1]))\n",
      "(0.0, array([ 0, 13,  6,  9,  3]))\n",
      "(0.0, array([ 2,  0,  4, 11, 13]))\n",
      "(0.0, array([12,  2, 10,  4,  0]))\n",
      "(10.0, array([12,  2,  3,  4, 10]))\n",
      "(108, 316)\n"
     ]
    }
   ],
   "source": [
    "topk = 5\n",
    "z = arg_sort(p)\n",
    "# print(testImagesList[0, 0], z[0,:topk])\n",
    "tru = 0\n",
    "fal = 0\n",
    "for i in range(len(testImagesList)):\n",
    "    if testImagesList[i, 0] in z[i,:topk]:\n",
    "        print(testImagesList[i, 0] , z[i,:topk])\n",
    "        tru += 1\n",
    "    else:\n",
    "        fal += 1\n",
    "float(tru/fal)\n",
    "print(tru, fal)"
   ]
  },
  {
   "cell_type": "code",
   "execution_count": null,
   "metadata": {
    "collapsed": true
   },
   "outputs": [],
   "source": []
  }
 ],
 "metadata": {
  "kernelspec": {
   "display_name": "Python 2",
   "language": "python",
   "name": "python2"
  },
  "language_info": {
   "codemirror_mode": {
    "name": "ipython",
    "version": 2
   },
   "file_extension": ".py",
   "mimetype": "text/x-python",
   "name": "python",
   "nbconvert_exporter": "python",
   "pygments_lexer": "ipython2",
   "version": "2.7.12"
  }
 },
 "nbformat": 4,
 "nbformat_minor": 2
}
