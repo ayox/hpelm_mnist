{
 "cells": [
  {
   "cell_type": "code",
   "execution_count": 3,
   "metadata": {
    "collapsed": true
   },
   "outputs": [],
   "source": [
    "from hpelm import ELM\n",
    "import numpy as np\n",
    "import time\n",
    "from sklearn.utils import shuffle\n",
    "from sklearn.metrics import confusion_matrix, accuracy_score, average_precision_score\n",
    "import itertools\n",
    "import numpy as np\n",
    "import matplotlib.pyplot as plt\n",
    "from matplotlib import pylab\n",
    "import os\n",
    "from sklearn.model_selection import train_test_split,StratifiedShuffleSplit"
   ]
  },
  {
   "cell_type": "code",
   "execution_count": null,
   "metadata": {
    "collapsed": true
   },
   "outputs": [],
   "source": [
    "# from PIL import Image\n",
    "# from numpy import array\n",
    "# from scipy.misc import imresize"
   ]
  },
  {
   "cell_type": "code",
   "execution_count": null,
   "metadata": {
    "collapsed": true
   },
   "outputs": [],
   "source": [
    "# from os import listdir\n",
    "# from os.path import isfile, join\n",
    "# from cutImages import cut_image\n",
    "\n",
    "\n",
    "# def read_images(path):\n",
    "#     fullList = []\n",
    "#     for c in range(1, 100):\n",
    "#         mypath = path + str(c) + \"/\"\n",
    "#         onlyfiles = [f for f in listdir(mypath) if isfile(join(mypath, f))]\n",
    "#         print (len(onlyfiles), c)\n",
    "#         for x in onlyfiles:\n",
    "#             if x == 'bb_info.txt':\n",
    "#                 continue\n",
    "#             img = cut_image(mypath + x)\n",
    "#             arr = array(img)\n",
    "#             arr = imresize(arr, [32, 32, 3])\n",
    "#             r = arr[:, :, 0].flatten()\n",
    "#             g = arr[:, :, 1].flatten()\n",
    "#             b = arr[:, :, 2].flatten()\n",
    "#             label = [c]\n",
    "#             out = np.array(list(label) + list(r) + list(g) + list(b), np.int)\n",
    "#             fullList.append(out)\n",
    "#     shuffle(fullList)\n",
    "#     imagesList = np.array(fullList, dtype=int)\n",
    "#     print (\"images shape: {}\".format(imagesList.shape))\n",
    "#     return imagesList"
   ]
  },
  {
   "cell_type": "code",
   "execution_count": 5,
   "metadata": {},
   "outputs": [],
   "source": [
    "# imagesList = np.load('UECFOOD_100_1000Features_train.npy')\n",
    "# trainingData = np.loadtxt('/media/aymen/DATA/datasets/cropped_db/UECFOOD100-Cropped/1664features-cnn-aug-crop-27epoch-food101.svm')\n",
    "trainingData = np.loadtxt('/run/media/aymen/DATA/datasets/food101/images/15159883301664features-cnn-finetuned-food101.svm')\n",
    "# trainingData = np.loadtxt(\n",
    "#     '/media/aymen/DATA/datasets/food101/train/1664features-cnn-aug-nc-100epoch-finetuned-food101.svm')\n",
    "# testingData = np.loadtxt(\n",
    "#     '/media/aymen/DATA/datasets/food101/test/1664features-cnn-aug-nc-100epoch-finetuned-food101.svm')"
   ]
  },
  {
   "cell_type": "code",
   "execution_count": 6,
   "metadata": {},
   "outputs": [
    {
     "data": {
      "text/plain": [
       "(101000, 1665)"
      ]
     },
     "execution_count": 6,
     "metadata": {},
     "output_type": "execute_result"
    }
   ],
   "source": [
    "# trainingData.shape, testingData.shape\n",
    "trainingData.shape"
   ]
  },
  {
   "cell_type": "code",
   "execution_count": 7,
   "metadata": {},
   "outputs": [],
   "source": [
    "filterd = trainingData[((trainingData[:,0] > 0) & (trainingData[:,0] < 10))]"
   ]
  },
  {
   "cell_type": "code",
   "execution_count": 8,
   "metadata": {},
   "outputs": [
    {
     "data": {
      "text/plain": [
       "(9000, 1665)"
      ]
     },
     "execution_count": 8,
     "metadata": {},
     "output_type": "execute_result"
    }
   ],
   "source": [
    "filterd.shape"
   ]
  },
  {
   "cell_type": "markdown",
   "metadata": {},
   "source": [
    "from cPickle import load\n",
    "all_features_file = '/media/aymen/DATA/datasets/ghalib-features/data_features_orb_UECFOOD100.pickle'\n",
    "all_features = load(open(all_features_file, 'rb'))"
   ]
  },
  {
   "cell_type": "markdown",
   "metadata": {},
   "source": [
    "img_class = all_features[0][0].split('/')[-2]\n",
    "print(img_class)"
   ]
  },
  {
   "cell_type": "markdown",
   "metadata": {},
   "source": [
    "fet = all_features[0][1]\n",
    "print fet.shape"
   ]
  },
  {
   "cell_type": "markdown",
   "metadata": {},
   "source": [
    "count = 0 \n",
    "for i, val in all_features:\n",
    "    if count < 3 :\n",
    "        img_class = i.split('/')[-2]\n",
    "        print img_class, val\n",
    "        count +=1\n",
    "    else:\n",
    "        break\n",
    "        "
   ]
  },
  {
   "cell_type": "code",
   "execution_count": null,
   "metadata": {},
   "outputs": [],
   "source": [
    "# X_train, X_test, y_train, y_test = train_test_split(trainingData[:,1:],trainingData[:,0])\n",
    "# trainImagesList =np.column_stack([y_train, X_train])\n",
    "# testImagesList =np.column_stack([y_test, X_test])\n",
    "# # trainImagesList = np.loadtxt('train_yun')\n",
    "# # testImagesList = np.loadtxt('test_yun')\n",
    "# print ('trainImagesList', trainImagesList.shape)\n",
    "# print ('testImagesList', testImagesList.shape)\n",
    "# print (trainImagesList.shape[0] + testImagesList.shape[0])\n",
    "# print(np.unique(trainImagesList[:,0]),np.unique(testImagesList[:,0]))"
   ]
  },
  {
   "cell_type": "code",
   "execution_count": 9,
   "metadata": {},
   "outputs": [
    {
     "ename": "NameError",
     "evalue": "name 'trainImagesList' is not defined",
     "output_type": "error",
     "traceback": [
      "\u001b[0;31m---------------------------------------------------------------------------\u001b[0m",
      "\u001b[0;31mNameError\u001b[0m                                 Traceback (most recent call last)",
      "\u001b[0;32m<ipython-input-9-33acfeb7bac5>\u001b[0m in \u001b[0;36m<module>\u001b[0;34m\u001b[0m\n\u001b[1;32m      1\u001b[0m \u001b[0;31m# np.savetxt('train_yun',trainImagesList)\u001b[0m\u001b[0;34m\u001b[0m\u001b[0;34m\u001b[0m\u001b[0;34m\u001b[0m\u001b[0m\n\u001b[1;32m      2\u001b[0m \u001b[0;31m# np.savetxt('test_yun',testImagesList)\u001b[0m\u001b[0;34m\u001b[0m\u001b[0;34m\u001b[0m\u001b[0;34m\u001b[0m\u001b[0m\n\u001b[0;32m----> 3\u001b[0;31m \u001b[0mtrainImagesList\u001b[0m\u001b[0;34m[\u001b[0m\u001b[0;36m0\u001b[0m\u001b[0;34m,\u001b[0m\u001b[0;36m12\u001b[0m\u001b[0;34m]\u001b[0m\u001b[0;34m\u001b[0m\u001b[0;34m\u001b[0m\u001b[0m\n\u001b[0m",
      "\u001b[0;31mNameError\u001b[0m: name 'trainImagesList' is not defined"
     ]
    }
   ],
   "source": [
    "# np.savetxt('train_yun',trainImagesList)\n",
    "# np.savetxt('test_yun',testImagesList)\n",
    "trainImagesList[0,12]"
   ]
  },
  {
   "cell_type": "code",
   "execution_count": null,
   "metadata": {
    "collapsed": true
   },
   "outputs": [],
   "source": [
    "# trainImagesList = np.loadtxt('train_yun')\n",
    "# testImagesList = np.loadtxt('test_yun')"
   ]
  },
  {
   "cell_type": "code",
   "execution_count": 10,
   "metadata": {},
   "outputs": [
    {
     "data": {
      "text/plain": [
       "array([[6.      , 0.      , 0.      , ..., 0.528269, 0.678551, 1.455464],\n",
       "       [2.      , 0.      , 0.      , ..., 1.40034 , 0.106055, 0.897541],\n",
       "       [3.      , 0.      , 0.      , ..., 0.752622, 0.291786, 0.122191],\n",
       "       ...,\n",
       "       [9.      , 0.      , 0.      , ..., 1.062912, 1.444666, 0.629489],\n",
       "       [9.      , 0.      , 0.      , ..., 2.774391, 0.552041, 0.551812],\n",
       "       [5.      , 0.      , 0.      , ..., 1.032113, 1.020121, 0.256838]])"
      ]
     },
     "execution_count": 10,
     "metadata": {},
     "output_type": "execute_result"
    }
   ],
   "source": [
    "filterd"
   ]
  },
  {
   "cell_type": "code",
   "execution_count": 11,
   "metadata": {},
   "outputs": [
    {
     "name": "stdout",
     "output_type": "stream",
     "text": [
      "imaglist full (9000, 1665)\n",
      "trainImagesList (6750, 1665)\n",
      "testImagesList (2250, 1665)\n",
      "9000\n",
      "[1. 2. 3. 4. 5. 6. 7. 8. 9.]\n"
     ]
    }
   ],
   "source": [
    "# imagesList = shuffle(filterd)\n",
    "imagesList = filterd\n",
    "# index = np.argwhere(imagesList== 175.0)\n",
    "# imagesList = np.delete(imagesList, index,axis=0)\n",
    "precentage = 0.75\n",
    "print ('imaglist full', imagesList.shape)\n",
    "trainImagesList = imagesList[0:int(imagesList.__len__() * precentage), :]\n",
    "testImagesList = imagesList[int(imagesList.__len__() * precentage):, :]\n",
    "print ('trainImagesList', trainImagesList.shape)\n",
    "print ('testImagesList', testImagesList.shape)\n",
    "print (trainImagesList.shape[0] + testImagesList.shape[0])\n",
    "# print(imagesList[3])\n",
    "print(np.unique(imagesList[:,0]))"
   ]
  },
  {
   "cell_type": "code",
   "execution_count": 58,
   "metadata": {
    "collapsed": true
   },
   "outputs": [],
   "source": [
    "# trainImagesList = trainingData\n",
    "# testImagesList = testingData\n",
    "# print(np.unique(trainImagesList[:,0]))\n",
    "# print(np.unique(testImagesList[:,0]))"
   ]
  },
  {
   "cell_type": "code",
   "execution_count": 12,
   "metadata": {},
   "outputs": [
    {
     "data": {
      "text/plain": [
       "(Counter({6.0: 760,\n",
       "          2.0: 757,\n",
       "          3.0: 741,\n",
       "          5.0: 734,\n",
       "          4.0: 731,\n",
       "          7.0: 760,\n",
       "          8.0: 769,\n",
       "          1.0: 761,\n",
       "          9.0: 737}),\n",
       " Counter({4.0: 269,\n",
       "          7.0: 240,\n",
       "          1.0: 239,\n",
       "          6.0: 240,\n",
       "          3.0: 259,\n",
       "          5.0: 266,\n",
       "          8.0: 231,\n",
       "          9.0: 263,\n",
       "          2.0: 243}))"
      ]
     },
     "execution_count": 12,
     "metadata": {},
     "output_type": "execute_result"
    }
   ],
   "source": [
    "from collections import Counter\n",
    "Counter(trainImagesList[:,0]),Counter(testImagesList[:,0])"
   ]
  },
  {
   "cell_type": "code",
   "execution_count": 60,
   "metadata": {
    "collapsed": true
   },
   "outputs": [],
   "source": [
    "# images_norm = imagesList[:,1:]\n",
    "# labels = imagesList[:,0]\n",
    "# from sklearn.preprocessing import normalize\n",
    "# images_norm = normalize(images_norm)\n",
    "\n",
    "# print (images_norm.shape)\n",
    "# print('labels',labels.shape)\n",
    "# print(images_norm[324])\n",
    "# print(np.unique(images_norm))\n",
    "# trainImagesList = images_norm[0:int(images_norm.__len__() * .8), :]\n",
    "# testImagesList = images_norm[int(images_norm.__len__() * .8):, :]\n",
    "\n",
    "# trainImagesList_labels = labels[0:int(labels.__len__() * .8)]\n",
    "# testImagesList_labels = labels[int(labels.__len__() * .8):]\n",
    "\n",
    "# print ('trainImagesList', trainImagesList.shape)\n",
    "# print ('testImagesList', testImagesList.shape)\n",
    "# print ('trainImagesList_labels', trainImagesList_labels.shape)\n",
    "# print ('testImagesList_labels', testImagesList_labels.shape)\n",
    "# # images = norm2\n"
   ]
  },
  {
   "cell_type": "code",
   "execution_count": 13,
   "metadata": {},
   "outputs": [
    {
     "name": "stdout",
     "output_type": "stream",
     "text": [
      "batch_size : 6750.0\n",
      "hidden_num : 1500\n"
     ]
    }
   ],
   "source": [
    "epoch = 1\n",
    "batch_size = trainImagesList.__len__() / epoch\n",
    "hidden_num = 1500\n",
    "_inputs = 1664\n",
    "_outputs = 10\n",
    "elm = ELM(_inputs, _outputs, batch=batch_size)\n",
    "elm.add_neurons(hidden_num, \"tanh\")\n",
    "print(\"batch_size : {}\".format(batch_size))\n",
    "print(\"hidden_num : {}\".format(hidden_num))\n"
   ]
  },
  {
   "cell_type": "code",
   "execution_count": 14,
   "metadata": {},
   "outputs": [
    {
     "name": "stdout",
     "output_type": "stream",
     "text": [
      "batch : 1\n",
      "0.8976356983184814 seconds\n"
     ]
    }
   ],
   "source": [
    "k=1\n",
    "old_batch_size_k = 0\n",
    "start_time = time.time()\n",
    "while k <= epoch:\n",
    "    # shuffle(trainImagesList)\n",
    "    print(\"batch : {}\".format(k))\n",
    "    # print (data.shape, data.dtype)\n",
    "    # dynamic\n",
    "#     train_x = np.array(data[old_batch_size_k:(batch_size * k), 1:], dtype=\"float\")\n",
    "#     train_y = np.array(data[old_batch_size_k:(batch_size * k), 0], dtype=\"int\")\n",
    "#     if k == epoch:\n",
    "#         train_x = np.array(data[old_batch_size_k:, 1:], dtype=\"float\")\n",
    "#         train_y = np.array(data[old_batch_size_k:, 0], dtype=\"int\")\n",
    "#     old_batch_size_k = batch_size * k\n",
    "\n",
    "#     # whole\n",
    "#     train_x = np.array(data[:, 1:], dtype=\"float\")\n",
    "    train_y = np.array(trainImagesList[:, 0], dtype=\"int\")\n",
    "    #separate labels and images \n",
    "#     train_x = np.array(trainImagesList, dtype=\"float\")\n",
    "#     train_y = np.array(trainImagesList_labels, dtype=\"int\")\n",
    "    \n",
    "#     print (\"X\", train_x.shape)\n",
    "#     print (\"Y\", train_y.shape)\n",
    "    # end whole\n",
    "    train_y = np.eye(np.max(train_y) + 1)[train_y]\n",
    "    elm.train(np.array(trainImagesList[:, 1:], dtype=\"float\"), train_y)\n",
    "    k += 1\n",
    "\n",
    "end_time = time.time()\n",
    "print(\"%s seconds\" % (end_time - start_time))"
   ]
  },
  {
   "cell_type": "code",
   "execution_count": 15,
   "metadata": {
    "collapsed": true
   },
   "outputs": [],
   "source": [
    "def predict(_testImagesList):\n",
    "    # testImagesList = np.load(testPath)\n",
    "    testList = _testImagesList\n",
    "\n",
    "    # print ('testImagesList', testList, testList.shape)\n",
    "    test_x = np.array(testList[:, 1:], dtype=\"float\")\n",
    "    test_y = np.array(testList[:, 0], dtype=\"int\")\n",
    "    test_y = np.eye(np.max(test_y) + 1)[test_y]\n",
    "    #\n",
    "    Y = elm.predict(test_x)\n",
    "    predict = []\n",
    "    for y in Y:\n",
    "        predict.append(y.argmax())\n",
    "\n",
    "    gt = []\n",
    "    for y in test_y:\n",
    "        gt.append(y.argmax())\n",
    "\n",
    "    save = []\n",
    "    for _ in np.arange(0, len(gt)):\n",
    "        k = True if gt[_] == predict[_] else False\n",
    "        save.append(k)\n",
    "\n",
    "    return save,gt,predict"
   ]
  },
  {
   "cell_type": "code",
   "execution_count": 16,
   "metadata": {
    "collapsed": true
   },
   "outputs": [],
   "source": [
    "def predict_n(_testImagesList,n=5):\n",
    "    # testImagesList = np.load(testPath)\n",
    "    testList = _testImagesList\n",
    "\n",
    "    # print ('testImagesList', testList, testList.shape)\n",
    "    test_x = np.array(testList[:, 1:], dtype=\"float\")\n",
    "    test_y = np.array(testList[:, 0], dtype=\"int\")\n",
    "    test_y = np.eye(np.max(test_y) + 1)[test_y]\n",
    "    #\n",
    "    Y = elm.predict(test_x)\n",
    "    predict = []\n",
    "    for y in Y:\n",
    "        predict.append(np.argsort(y)[-n:])\n",
    "\n",
    "    gt = []\n",
    "    for y in test_y:\n",
    "        gt.append(y.argmax())\n",
    "\n",
    "    save = []\n",
    "    for _ in np.arange(0, len(gt)):\n",
    "        k = True if gt[_] in predict[_] else False\n",
    "        save.append(k)\n",
    "\n",
    "    return save,gt,predict"
   ]
  },
  {
   "cell_type": "code",
   "execution_count": 17,
   "metadata": {
    "collapsed": true
   },
   "outputs": [],
   "source": [
    "def plot_confusion_matrix(cm, classes,\n",
    "                          normalize=False,\n",
    "                          title='Confusion matrix',\n",
    "                          cmap=plt.cm.Blues):\n",
    "    \"\"\"\n",
    "    This function prints and plots the confusion matrix.\n",
    "    Normalization can be applied by setting `normalize=True`.\n",
    "    \"\"\"\n",
    "    if normalize:\n",
    "        cm = cm.astype('float') / cm.sum(axis=1)[:, np.newaxis]\n",
    "        print(\"Normalized confusion matrix\")\n",
    "    else:\n",
    "        print('Confusion matrix, without normalization')\n",
    "\n",
    "    print(cm)\n",
    "\n",
    "    plt.imshow(cm, interpolation='nearest', cmap=cmap)\n",
    "    plt.title(title)\n",
    "    plt.colorbar()\n",
    "    tick_marks = np.arange(len(classes))\n",
    "    plt.xticks(tick_marks, classes, rotation=45)\n",
    "    plt.yticks(tick_marks, classes)\n",
    "\n",
    "    fmt = '.2f' if normalize else 'd'\n",
    "    thresh = cm.max() / 2.\n",
    "    for i, j in itertools.product(range(cm.shape[0]), range(cm.shape[1])):\n",
    "        plt.text(j, i, format(cm[i, j], fmt),\n",
    "                 horizontalalignment=\"center\",\n",
    "                 color=\"black\" if cm[i, j] > thresh else \"white\")\n",
    "\n",
    "    plt.tight_layout()\n",
    "    plt.ylabel('True label')\n",
    "    plt.xlabel('Predicted label')\n",
    "    \n",
    "    plt.show()"
   ]
  },
  {
   "cell_type": "code",
   "execution_count": 22,
   "metadata": {
    "collapsed": true
   },
   "outputs": [],
   "source": [
    "def print_cm(cm, labels, hide_zeroes=False, hide_diagonal=False, hide_threshold=None):\n",
    "    \"\"\"pretty print for confusion matrixes\"\"\"\n",
    "    columnwidth = max([len(x) for x in labels]+[5]) # 5 is value length\n",
    "    empty_cell = \" \" * columnwidth\n",
    "    # Print header\n",
    "    print (\"    \" + empty_cell),\n",
    "    for label in labels: \n",
    "        print (\"%{0}s\".format(columnwidth) % label),\n",
    "    print\n",
    "    # Print rows\n",
    "    for i, label1 in enumerate(labels):\n",
    "        print (\"    %{0}s\".format(columnwidth) % label1),\n",
    "        for j in range(len(labels)): \n",
    "            cell = \"%{0}.1f\".format(columnwidth) % cm[i, j]\n",
    "            if hide_zeroes:\n",
    "                cell = cell if float(cm[i, j]) != 0 else empty_cell\n",
    "            if hide_diagonal:\n",
    "                cell = cell if i != j else empty_cell\n",
    "            if hide_threshold:\n",
    "                cell = cell if cm[i, j] > hide_threshold else empty_cell\n",
    "            print (cell),\n",
    "        print"
   ]
  },
  {
   "cell_type": "code",
   "execution_count": 43,
   "metadata": {
    "collapsed": true
   },
   "outputs": [],
   "source": [
    "# def predict_labels(_testImagesList,_labels):\n",
    "#     # testImagesList = np.load(testPath)\n",
    "#     testList = _testImagesList\n",
    "#     labels = _labels\n",
    "\n",
    "#     # print ('testImagesList', testList, testList.shape)\n",
    "#     test_x = np.array(testList, dtype=\"float\")\n",
    "#     test_y = np.array(labels, dtype=\"int\")\n",
    "#     test_y = np.eye(np.max(test_y) + 1)[test_y]\n",
    "#     #\n",
    "#     Y = elm.predict(test_x)\n",
    "#     predict = []\n",
    "#     for y in Y:\n",
    "#         predict.append(y.argmax())\n",
    "\n",
    "#     gt = []\n",
    "#     for y in test_y:\n",
    "#         gt.append(y.argmax())\n",
    "\n",
    "#     save = []\n",
    "#     for _ in np.arange(0, len(gt)):\n",
    "#         k = True if gt[_] == predict[_] else False\n",
    "#         save.append(k)\n",
    "\n",
    "#     return save"
   ]
  },
  {
   "cell_type": "code",
   "execution_count": 32,
   "metadata": {},
   "outputs": [
    {
     "name": "stdout",
     "output_type": "stream",
     "text": [
      "test accuracy: 0.9871111111111112\n",
      "train accuracy: 0.9983703703703704\n"
     ]
    }
   ],
   "source": [
    "test,gt,prd = predict(testImagesList)\n",
    "print(\"test accuracy: {0}\".format(np.mean(test)))\n",
    "train,tgt,tprd = predict(trainImagesList)\n",
    "print(\"train accuracy: {0}\".format(np.mean(train)))"
   ]
  },
  {
   "cell_type": "code",
   "execution_count": 24,
   "metadata": {},
   "outputs": [
    {
     "name": "stdout",
     "output_type": "stream",
     "text": [
      "test accuracy: 0.9995555555555555\n",
      "train accuracy: 1.0\n"
     ]
    }
   ],
   "source": [
    "test,gt,prd = predict_n(testImagesList,5)\n",
    "print(\"test accuracy: {0}\".format(np.mean(test)))\n",
    "train,tgt,tprd = predict_n(trainImagesList,5)\n",
    "print(\"train accuracy: {0}\".format(np.mean(train)))"
   ]
  },
  {
   "cell_type": "code",
   "execution_count": 36,
   "metadata": {
    "collapsed": true
   },
   "outputs": [],
   "source": [
    "def plot_confusion_matrix_pretty(cm, genre_list, name='food', title='Confusion matrix'):\n",
    "    \"\"\"\n",
    "        Plots confusion matrices.\n",
    "    \"\"\"\n",
    "    pylab.clf()\n",
    "    pylab.matshow(cm, fignum=False, cmap='Blues', vmin=0, vmax=1.0)\n",
    "    ax = pylab.axes()\n",
    "    ax.set_xticks(range(len(genre_list)))\n",
    "    ax.set_xticklabels(genre_list)\n",
    "    ax.xaxis.set_ticks_position(\"bottom\")\n",
    "    ax.set_yticks(range(len(genre_list)))\n",
    "    ax.set_yticklabels(genre_list)\n",
    "    pylab.title(title)\n",
    "    pylab.colorbar()\n",
    "    pylab.grid(False)\n",
    "    pylab.xlabel('Predicted class', fontsize = 5)\n",
    "    pylab.ylabel('True class', fontsize = 5)\n",
    "    pylab.grid(False)\n",
    "    #pylab.show()\n",
    "    pylab.savefig(\"confusion_matrix_%s.png\" % name, bbox_inches=\"tight\",dpi = 300)"
   ]
  },
  {
   "cell_type": "code",
   "execution_count": 33,
   "metadata": {},
   "outputs": [
    {
     "data": {
      "image/png": "[encoded data removed]",
      "text/plain": [
       "<Figure size 288x288 with 2 Axes>"
      ]
     },
     "metadata": {
      "needs_background": "light"
     },
     "output_type": "display_data"
    }
   ],
   "source": [
    "\n",
    "cnf_matrix = confusion_matrix(gt, prd, labels=np.unique(trainImagesList[:,0]))\n",
    "# Plot non-normalized confusion matrix\n",
    "plt.matshow(cnf_matrix)\n",
    "plt.title('Confusion matrix')\n",
    "plt.colorbar()\n",
    "plt.ylabel('True label')\n",
    "plt.xlabel('Predicted label')\n",
    "plt.savefig('cnf_matrix.png',dpi = 500)\n",
    "\n",
    "plt.show()\n"
   ]
  },
  {
   "cell_type": "code",
   "execution_count": 35,
   "metadata": {},
   "outputs": [
    {
     "data": {
      "image/png": "[encoded data removed]",
      "text/plain": [
       "<Figure size 432x288 with 2 Axes>"
      ]
     },
     "metadata": {
      "needs_background": "light"
     },
     "output_type": "display_data"
    }
   ],
   "source": [
    "lis = range(10)\n",
    "labels = [\"{:02d}\".format(x) for x in lis]\n",
    "plot_confusion_matrix_pretty(cnf_matrix, labels)"
   ]
  },
  {
   "cell_type": "code",
   "execution_count": 31,
   "metadata": {},
   "outputs": [
    {
     "ename": "ValueError",
     "evalue": "Classification metrics can't handle a mix of multiclass and multiclass-multioutput targets",
     "output_type": "error",
     "traceback": [
      "\u001b[0;31m---------------------------------------------------------------------------\u001b[0m",
      "\u001b[0;31mValueError\u001b[0m                                Traceback (most recent call last)",
      "\u001b[0;32m<ipython-input-31-8fa36d41ef45>\u001b[0m in \u001b[0;36m<module>\u001b[0;34m\u001b[0m\n\u001b[0;32m----> 1\u001b[0;31m \u001b[0maccuracy_score\u001b[0m\u001b[0;34m(\u001b[0m\u001b[0mgt\u001b[0m\u001b[0;34m,\u001b[0m\u001b[0mprd\u001b[0m\u001b[0;34m)\u001b[0m\u001b[0;34m\u001b[0m\u001b[0;34m\u001b[0m\u001b[0m\n\u001b[0m",
      "\u001b[0;32m/usr/lib/python3.7/site-packages/sklearn/metrics/classification.py\u001b[0m in \u001b[0;36maccuracy_score\u001b[0;34m(y_true, y_pred, normalize, sample_weight)\u001b[0m\n\u001b[1;32m    174\u001b[0m \u001b[0;34m\u001b[0m\u001b[0m\n\u001b[1;32m    175\u001b[0m     \u001b[0;31m# Compute accuracy for each possible representation\u001b[0m\u001b[0;34m\u001b[0m\u001b[0;34m\u001b[0m\u001b[0;34m\u001b[0m\u001b[0m\n\u001b[0;32m--> 176\u001b[0;31m     \u001b[0my_type\u001b[0m\u001b[0;34m,\u001b[0m \u001b[0my_true\u001b[0m\u001b[0;34m,\u001b[0m \u001b[0my_pred\u001b[0m \u001b[0;34m=\u001b[0m \u001b[0m_check_targets\u001b[0m\u001b[0;34m(\u001b[0m\u001b[0my_true\u001b[0m\u001b[0;34m,\u001b[0m \u001b[0my_pred\u001b[0m\u001b[0;34m)\u001b[0m\u001b[0;34m\u001b[0m\u001b[0;34m\u001b[0m\u001b[0m\n\u001b[0m\u001b[1;32m    177\u001b[0m     \u001b[0mcheck_consistent_length\u001b[0m\u001b[0;34m(\u001b[0m\u001b[0my_true\u001b[0m\u001b[0;34m,\u001b[0m \u001b[0my_pred\u001b[0m\u001b[0;34m,\u001b[0m \u001b[0msample_weight\u001b[0m\u001b[0;34m)\u001b[0m\u001b[0;34m\u001b[0m\u001b[0;34m\u001b[0m\u001b[0m\n\u001b[1;32m    178\u001b[0m     \u001b[0;32mif\u001b[0m \u001b[0my_type\u001b[0m\u001b[0;34m.\u001b[0m\u001b[0mstartswith\u001b[0m\u001b[0;34m(\u001b[0m\u001b[0;34m'multilabel'\u001b[0m\u001b[0;34m)\u001b[0m\u001b[0;34m:\u001b[0m\u001b[0;34m\u001b[0m\u001b[0;34m\u001b[0m\u001b[0m\n",
      "\u001b[0;32m/usr/lib/python3.7/site-packages/sklearn/metrics/classification.py\u001b[0m in \u001b[0;36m_check_targets\u001b[0;34m(y_true, y_pred)\u001b[0m\n\u001b[1;32m     79\u001b[0m     \u001b[0;32mif\u001b[0m \u001b[0mlen\u001b[0m\u001b[0;34m(\u001b[0m\u001b[0my_type\u001b[0m\u001b[0;34m)\u001b[0m \u001b[0;34m>\u001b[0m \u001b[0;36m1\u001b[0m\u001b[0;34m:\u001b[0m\u001b[0;34m\u001b[0m\u001b[0;34m\u001b[0m\u001b[0m\n\u001b[1;32m     80\u001b[0m         raise ValueError(\"Classification metrics can't handle a mix of {0} \"\n\u001b[0;32m---> 81\u001b[0;31m                          \"and {1} targets\".format(type_true, type_pred))\n\u001b[0m\u001b[1;32m     82\u001b[0m \u001b[0;34m\u001b[0m\u001b[0m\n\u001b[1;32m     83\u001b[0m     \u001b[0;31m# We can't have more than one value on y_type => The set is no more needed\u001b[0m\u001b[0;34m\u001b[0m\u001b[0;34m\u001b[0m\u001b[0;34m\u001b[0m\u001b[0m\n",
      "\u001b[0;31mValueError\u001b[0m: Classification metrics can't handle a mix of multiclass and multiclass-multioutput targets"
     ]
    }
   ],
   "source": [
    "accuracy_score(gt,prd)"
   ]
  },
  {
   "cell_type": "markdown",
   "metadata": {},
   "source": [
    "Results : \n",
    "\n",
    "food101\n",
    "\n",
    "test accuracy: 0.939603960396\n",
    "\n",
    "train accuracy: 0.953267326733\n",
    "\n",
    "UECFOOD256-Cropped\n",
    "\n",
    "test accuracy: 0.632087492037\n",
    "\n",
    "train accuracy: 0.930099208155\n",
    "\n",
    "UECFOOD256\n",
    "\n",
    "test accuracy: 0.558551863255\n",
    "\n",
    "train accuracy: 0.89010738988\n",
    "\n",
    "\n",
    "UECFOOD100\n",
    "\n",
    "test accuracy: 0.74791086351\n",
    "\n",
    "train accuracy: 0.984378109453\n",
    "\n",
    "===========================\n",
    "\n",
    "Aug 27 epoch - aug with crops \n",
    "\n",
    "UECFOOD100 - top5 \n",
    "\n",
    "test accuracy: 0.918871866295\n",
    "\n",
    "train accuracy: 1.0\n",
    "\n",
    "\n",
    "UECFOOD100 - top1 \n",
    "\n",
    "test accuracy: 0.750227066303\n",
    "\n",
    "train accuracy: 0.983536861149"
   ]
  },
  {
   "cell_type": "code",
   "execution_count": null,
   "metadata": {
    "collapsed": true
   },
   "outputs": [],
   "source": [
    "# test = predict_labels(testImagesList,testImagesList_labels)\n",
    "# print(\"test accuracy: {0}\".format(np.mean(test)))\n",
    "# train = predict_labels(trainImagesList,trainImagesList_labels)\n",
    "# print(\"train accuracy: {0}\".format(np.mean(train)))\n",
    "# test accuracy: 0.90003960396\n",
    "# train accuracy: 0.92598019802"
   ]
  },
  {
   "cell_type": "markdown",
   "metadata": {},
   "source": [
    "test accuracy: 0.867333333333\n",
    "train accuracy: 0.992444444444"
   ]
  },
  {
   "cell_type": "code",
   "execution_count": null,
   "metadata": {
    "collapsed": true
   },
   "outputs": [],
   "source": [
    "p = elm.predict(np.array(testImagesList[:, 1:], dtype=\"float\"))"
   ]
  },
  {
   "cell_type": "code",
   "execution_count": null,
   "metadata": {
    "collapsed": true
   },
   "outputs": [],
   "source": [
    "arg_sort = lambda x:  np.argsort(x)[::-1]"
   ]
  },
  {
   "cell_type": "code",
   "execution_count": null,
   "metadata": {},
   "outputs": [],
   "source": [
    "z.shape"
   ]
  },
  {
   "cell_type": "code",
   "execution_count": null,
   "metadata": {},
   "outputs": [],
   "source": [
    "topk = 5\n",
    "z = arg_sort(p)\n",
    "# print(testImagesList[0, 0], z[0,:topk])\n",
    "tru = 0\n",
    "fal = 0\n",
    "for i in range(len(testImagesList)):\n",
    "    if testImagesList[i, 0] in z[i,:topk]:\n",
    "        print(testImagesList[i, 0] , z[i,:topk])\n",
    "        tru += 1\n",
    "    else:\n",
    "        fal += 1\n",
    "float(tru/fal)\n",
    "print(tru, fal)"
   ]
  },
  {
   "cell_type": "code",
   "execution_count": null,
   "metadata": {
    "collapsed": true
   },
   "outputs": [],
   "source": []
  }
 ],
 "metadata": {
  "kernelspec": {
   "display_name": "Python 3",
   "language": "python",
   "name": "python3"
  },
  "language_info": {
   "codemirror_mode": {
    "name": "ipython",
    "version": 3
   },
   "file_extension": ".py",
   "mimetype": "text/x-python",
   "name": "python",
   "nbconvert_exporter": "python",
   "pygments_lexer": "ipython3",
   "version": "3.7.1"
  }
 },
 "nbformat": 4,
 "nbformat_minor": 2
}
