{
 "cells": [
  {
   "cell_type": "code",
   "execution_count": 1,
   "metadata": {
    "collapsed": true
   },
   "outputs": [],
   "source": [
    "from numpy import loadtxt,array\n",
    "from xgboost import XGBClassifier\n",
    "from sklearn.model_selection import train_test_split\n",
    "from sklearn.metrics import accuracy_score\n",
    "from sklearn.utils import shuffle\n",
    "import xgboost as xgb\n",
    "import time\n",
    "\n"
   ]
  },
  {
   "cell_type": "code",
   "execution_count": 2,
   "metadata": {
    "collapsed": true
   },
   "outputs": [],
   "source": [
    "trainingdata = loadtxt('/media/aymen/Seagate Backup Plus Drive/trainnig data/CNN/uecfood100-cropped-1664features-cnn-finetuned-food101.svm')"
   ]
  },
  {
   "cell_type": "code",
   "execution_count": 3,
   "metadata": {},
   "outputs": [
    {
     "data": {
      "text/plain": [
       "(14358, 1665)"
      ]
     },
     "execution_count": 3,
     "metadata": {},
     "output_type": "execute_result"
    }
   ],
   "source": [
    "trainingdata.shape"
   ]
  },
  {
   "cell_type": "code",
   "execution_count": 22,
   "metadata": {
    "collapsed": true
   },
   "outputs": [],
   "source": [
    "data = shuffle(trainingdata)"
   ]
  },
  {
   "cell_type": "code",
   "execution_count": 23,
   "metadata": {
    "collapsed": true
   },
   "outputs": [],
   "source": [
    "X = array(data[:, 1:], dtype=\"float\")\n",
    "Y = array(data[:, 0], dtype=\"int\")"
   ]
  },
  {
   "cell_type": "code",
   "execution_count": null,
   "metadata": {
    "collapsed": true
   },
   "outputs": [],
   "source": []
  },
  {
   "cell_type": "code",
   "execution_count": 24,
   "metadata": {
    "collapsed": true
   },
   "outputs": [],
   "source": [
    "# split data into train and test sets\n",
    "seed = 7\n",
    "test_size = 0.33\n",
    "X_train, X_test, y_train, y_test = train_test_split(X, Y, test_size=test_size, random_state=seed)"
   ]
  },
  {
   "cell_type": "code",
   "execution_count": 7,
   "metadata": {
    "collapsed": true
   },
   "outputs": [],
   "source": [
    "xg_train = xgb.DMatrix(X_train, label=y_train)\n",
    "xg_test = xgb.DMatrix(X_test, label=y_test)"
   ]
  },
  {
   "cell_type": "code",
   "execution_count": 27,
   "metadata": {},
   "outputs": [],
   "source": [
    "xgb_param = {'objective': 'multi:softmax', # Specify multiclass classification\n",
    "         'tree_method': 'gpu_hist'}\n",
    "model = XGBClassifier(silent=False,**xgb_param)\n"
   ]
  },
  {
   "cell_type": "code",
   "execution_count": null,
   "metadata": {
    "collapsed": true
   },
   "outputs": [],
   "source": [
    "model.fit(X_train, y_train)"
   ]
  },
  {
   "cell_type": "code",
   "execution_count": 16,
   "metadata": {},
   "outputs": [
    {
     "name": "stdout",
     "output_type": "stream",
     "text": [
      "[0]\ttest-merror:0.613632\n",
      "[1]\ttest-merror:0.535134\n",
      "[2]\ttest-merror:0.485756\n",
      "[3]\ttest-merror:0.458958\n",
      "[4]\ttest-merror:0.436801\n",
      "GPU Training Time: 81.7755138874 seconds\n"
     ]
    }
   ],
   "source": [
    "# num_round = 5\n",
    "\n",
    "# # Leave most parameters as default\n",
    "# param = {'objective': 'multi:softmax', # Specify multiclass classification\n",
    "#          'tree_method': 'gpu_hist' # Use GPU accelerated algorithm\n",
    "#          }\n",
    "# # use softmax multi-class classification\n",
    "# # scale weight of positive examples\n",
    "# param['eta'] = 0.1\n",
    "# param['max_depth'] = 6\n",
    "# param['silent'] = 1\n",
    "# param['nthread'] = 4\n",
    "# param['num_class'] = 100\n",
    "# gpu_res = {} # Store accuracy result\n",
    "# tmp = time.time()\n",
    "# # Train model\n",
    "# model = xgb.train(param, xg_train, num_round, evals=[(xg_test, 'test')], evals_result=gpu_res)\n",
    "# print(\"GPU Training Time: %s seconds\" % (str(time.time() - tmp)))"
   ]
  },
  {
   "cell_type": "code",
   "execution_count": null,
   "metadata": {
    "collapsed": true
   },
   "outputs": [],
   "source": [
    "# model.fit(X_train, y_train)"
   ]
  },
  {
   "cell_type": "code",
   "execution_count": 25,
   "metadata": {},
   "outputs": [],
   "source": [
    "y_pred_tr = model.predict(X_train)\n",
    "predictions_tr = [round(value) for value in y_pred_tr]\n",
    "y_pred_ts = model.predict(X_test)\n",
    "predictions_ts = [round(value) for value in y_pred_ts]"
   ]
  },
  {
   "cell_type": "code",
   "execution_count": 26,
   "metadata": {},
   "outputs": [
    {
     "name": "stdout",
     "output_type": "stream",
     "text": [
      "Accuracy: 90.69%\n",
      "Accuracy: 91.14%\n"
     ]
    }
   ],
   "source": [
    "accuracy_tr = accuracy_score(y_train, predictions_tr)\n",
    "print(\"Accuracy: %.2f%%\" % (accuracy_tr * 100.0))\n",
    "accuracy_ts = accuracy_score(y_test, predictions_ts)\n",
    "print(\"Accuracy: %.2f%%\" % (accuracy_ts * 100.0))"
   ]
  },
  {
   "cell_type": "code",
   "execution_count": null,
   "metadata": {
    "collapsed": true
   },
   "outputs": [],
   "source": []
  }
 ],
 "metadata": {
  "kernelspec": {
   "display_name": "Python 2",
   "language": "python",
   "name": "python2"
  },
  "language_info": {
   "codemirror_mode": {
    "name": "ipython",
    "version": 2
   },
   "file_extension": ".py",
   "mimetype": "text/x-python",
   "name": "python",
   "nbconvert_exporter": "python",
   "pygments_lexer": "ipython2",
   "version": "2.7.12"
  }
 },
 "nbformat": 4,
 "nbformat_minor": 2
}
